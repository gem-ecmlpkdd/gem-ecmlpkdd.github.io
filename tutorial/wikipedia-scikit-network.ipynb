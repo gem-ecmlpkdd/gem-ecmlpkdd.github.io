{
 "cells": [
  {
   "cell_type": "markdown",
   "metadata": {},
   "source": [
    "# Analysis of Wikipedia with scikit-network"
   ]
  },
  {
   "cell_type": "markdown",
   "metadata": {},
   "source": [
    "This notebook shows how to apply [scikit-network](https://scikit-network.readthedocs.io/) to analyse the network structure of Wikipedia, through its hyperlinks, as well as the textual content of Wikipedia, through the words used in the summaries of the articles.\n",
    "\n",
    "We consider the [Wikivitals](https://netset.telecom-paris.fr/pages/wikivitals.html) dataset of the [netset](https://netset.telecom-paris.fr) collection. This dataset consists of the [top 10,000 (vital) articles of Wikipedia](https://fr.wikipedia.org/wiki/Wikipédia:Articles_vitaux/Niveau_4)."
   ]
  },
  {
   "cell_type": "markdown",
   "metadata": {},
   "source": [
    "## Getting started"
   ]
  },
  {
   "cell_type": "markdown",
   "metadata": {},
   "source": [
    "To install scikit-network, please execute the following command and restart the kernel:"
   ]
  },
  {
   "cell_type": "code",
   "execution_count": null,
   "metadata": {},
   "outputs": [],
   "source": [
    "# !pip install scikit-network"
   ]
  },
  {
   "cell_type": "markdown",
   "metadata": {},
   "source": [
    "## Import"
   ]
  },
  {
   "cell_type": "code",
   "execution_count": null,
   "metadata": {},
   "outputs": [],
   "source": [
    "from IPython.display import SVG"
   ]
  },
  {
   "cell_type": "code",
   "execution_count": null,
   "metadata": {},
   "outputs": [],
   "source": [
    "import numpy as np\n",
    "from scipy import sparse\n",
    "from matplotlib import pyplot as plt"
   ]
  },
  {
   "cell_type": "code",
   "execution_count": null,
   "metadata": {},
   "outputs": [],
   "source": [
    "from sknetwork.data import load_netset\n",
    "from sknetwork.ranking import PageRank, top_k\n",
    "from sknetwork.hierarchy import LouvainHierarchy\n",
    "from sknetwork.embedding import Spectral\n",
    "from sknetwork.linalg import normalize\n",
    "from sknetwork.utils import WardDense, get_neighbors, membership_matrix\n",
    "from sknetwork.visualization import svg_digraph, svg_dendrogram"
   ]
  },
  {
   "cell_type": "code",
   "execution_count": null,
   "metadata": {},
   "outputs": [],
   "source": [
    "# used for 2D visualization\n",
    "from sklearn.manifold import TSNE"
   ]
  },
  {
   "cell_type": "markdown",
   "metadata": {},
   "source": [
    "## Data\n",
    "\n",
    "All datasets of the [netset](https://netset.telecom-paris.fr) collection can be easily imported with scikit-network."
   ]
  },
  {
   "cell_type": "code",
   "execution_count": null,
   "metadata": {
    "scrolled": true
   },
   "outputs": [],
   "source": [
    "wikivitals = load_netset('wikivitals')"
   ]
  },
  {
   "cell_type": "code",
   "execution_count": null,
   "metadata": {},
   "outputs": [],
   "source": [
    "# hyperlinks\n",
    "adjacency = wikivitals.adjacency\n",
    "names = wikivitals.names\n",
    "labels = wikivitals.labels\n",
    "names_labels = wikivitals.names_labels"
   ]
  },
  {
   "cell_type": "code",
   "execution_count": null,
   "metadata": {},
   "outputs": [],
   "source": [
    "# bipartite graph between articles and words\n",
    "biadjacency = wikivitals.biadjacency\n",
    "words = wikivitals.names_col"
   ]
  },
  {
   "cell_type": "code",
   "execution_count": null,
   "metadata": {},
   "outputs": [],
   "source": [
    "adjacency"
   ]
  },
  {
   "cell_type": "code",
   "execution_count": null,
   "metadata": {},
   "outputs": [],
   "source": [
    "biadjacency"
   ]
  },
  {
   "cell_type": "code",
   "execution_count": null,
   "metadata": {},
   "outputs": [],
   "source": [
    "# categories\n",
    "print(names_labels)"
   ]
  },
  {
   "cell_type": "markdown",
   "metadata": {},
   "source": [
    "## Sample\n",
    "\n",
    "Let's have a look at a random article."
   ]
  },
  {
   "cell_type": "code",
   "execution_count": null,
   "metadata": {},
   "outputs": [],
   "source": [
    "i = np.random.choice(len(names))\n",
    "print(names[i])"
   ]
  },
  {
   "cell_type": "code",
   "execution_count": null,
   "metadata": {},
   "outputs": [],
   "source": [
    "# label\n",
    "label = labels[i]\n",
    "print(names_labels[label])"
   ]
  },
  {
   "cell_type": "code",
   "execution_count": null,
   "metadata": {},
   "outputs": [],
   "source": [
    "# some outgoing hyperlinks\n",
    "nodes = get_neighbors(adjacency, i)\n",
    "print(names[nodes[:10]])"
   ]
  },
  {
   "cell_type": "code",
   "execution_count": null,
   "metadata": {},
   "outputs": [],
   "source": [
    "# some incoming hyperlinks\n",
    "nodes = get_neighbors(sparse.csr_matrix(adjacency.T), i)\n",
    "print(names[nodes[:10]])"
   ]
  },
  {
   "cell_type": "code",
   "execution_count": null,
   "metadata": {
    "scrolled": true
   },
   "outputs": [],
   "source": [
    "# some words\n",
    "nodes = get_neighbors(biadjacency, i)\n",
    "print(words[nodes[:10]])"
   ]
  },
  {
   "cell_type": "markdown",
   "metadata": {},
   "source": [
    "## PageRank\n",
    "\n",
    "We first use (personalized) [PageRank](https://en.wikipedia.org/wiki/PageRank) to select typical articles of each category."
   ]
  },
  {
   "cell_type": "code",
   "execution_count": null,
   "metadata": {},
   "outputs": [],
   "source": [
    "pagerank = PageRank()"
   ]
  },
  {
   "cell_type": "code",
   "execution_count": null,
   "metadata": {},
   "outputs": [],
   "source": [
    "# number of articles per category\n",
    "n_selection = 50"
   ]
  },
  {
   "cell_type": "code",
   "execution_count": null,
   "metadata": {},
   "outputs": [],
   "source": [
    "# selection of articles\n",
    "selection = []\n",
    "for label in np.arange(len(names_labels)):\n",
    "    ppr = pagerank.fit_transform(adjacency, seeds=(labels==label))\n",
    "    scores = ppr * (labels==label)\n",
    "    selection.append(top_k(scores, n_selection))\n",
    "selection = np.array(selection)"
   ]
  },
  {
   "cell_type": "code",
   "execution_count": null,
   "metadata": {},
   "outputs": [],
   "source": [
    "# show selection\n",
    "for label, name_label in enumerate(names_labels):\n",
    "    print('---')\n",
    "    print(label, name_label)\n",
    "    print(names[selection[label,:5]])"
   ]
  },
  {
   "cell_type": "markdown",
   "metadata": {},
   "source": [
    "## Graph embedding\n",
    "\n",
    "We now represent each node of the graph by a vector in low dimension, and visualize the result by [TSNE](https://en.wikipedia.org/wiki/T-distributed_stochastic_neighbor_embedding)."
   ]
  },
  {
   "cell_type": "code",
   "execution_count": null,
   "metadata": {},
   "outputs": [],
   "source": [
    "# dimension of the embedding\n",
    "n_components = 20"
   ]
  },
  {
   "cell_type": "code",
   "execution_count": null,
   "metadata": {},
   "outputs": [],
   "source": [
    "# embedding\n",
    "spectral = Spectral(n_components)\n",
    "embedding = spectral.fit_transform(adjacency)"
   ]
  },
  {
   "cell_type": "code",
   "execution_count": null,
   "metadata": {},
   "outputs": [],
   "source": [
    "# visualization by TSNE\n",
    "tsne = TSNE(2)\n",
    "embedding_ = tsne.fit_transform(embedding[selection.ravel()])"
   ]
  },
  {
   "cell_type": "code",
   "execution_count": null,
   "metadata": {},
   "outputs": [],
   "source": [
    "# vector of labels of the selection\n",
    "labels_selection = np.repeat(np.arange(len(names_labels)), n_selection)"
   ]
  },
  {
   "cell_type": "code",
   "execution_count": null,
   "metadata": {},
   "outputs": [],
   "source": [
    "# show embedding\n",
    "plt.figure(figsize=(6, 6))\n",
    "for label, name_label in enumerate(names_labels):\n",
    "    mask = labels_selection==label\n",
    "    plt.scatter(embedding_[mask,0], embedding_[mask,1], s=50)\n",
    "    center = np.mean(embedding_[mask], axis=0)\n",
    "    plt.text(center[0], center[1], name_label)"
   ]
  },
  {
   "cell_type": "markdown",
   "metadata": {},
   "source": [
    "## Text mining\n",
    "\n",
    "In the following, we consider the bipartite graph between articles and words used in their summaries.\n",
    "\n",
    "We first select topical words, used most often in articles of a given category."
   ]
  },
  {
   "cell_type": "code",
   "execution_count": null,
   "metadata": {},
   "outputs": [],
   "source": [
    "# select topical words, with frequency higher than some threshold in some category\n",
    "threshold = 0.5\n",
    "membership = membership_matrix(labels)\n",
    "labels_words_mask = (normalize(biadjacency.T).dot(membership) > threshold).T.toarray()"
   ]
  },
  {
   "cell_type": "code",
   "execution_count": null,
   "metadata": {},
   "outputs": [],
   "source": [
    "# number of words per category\n",
    "n_selection = 50"
   ]
  },
  {
   "cell_type": "code",
   "execution_count": null,
   "metadata": {},
   "outputs": [],
   "source": [
    "# use frequency to select top words\n",
    "counts = biadjacency.T.dot(np.ones(len(names)))"
   ]
  },
  {
   "cell_type": "code",
   "execution_count": null,
   "metadata": {},
   "outputs": [],
   "source": [
    "# selection of words by frequency\n",
    "selection_words = []\n",
    "for label in np.arange(len(names_labels)):\n",
    "    mask = labels_words_mask[label]\n",
    "    scores = counts * mask\n",
    "    selection_words.append(top_k(scores, n_selection))\n",
    "selection_words = np.array(selection_words)"
   ]
  },
  {
   "cell_type": "code",
   "execution_count": null,
   "metadata": {},
   "outputs": [],
   "source": [
    "# show selection\n",
    "for label, name_label in enumerate(names_labels):\n",
    "    print('---')\n",
    "    print(label, name_label)\n",
    "    print(words[selection_words[label,:5]])"
   ]
  },
  {
   "cell_type": "markdown",
   "metadata": {},
   "source": [
    "## Graph co-embedding\n",
    "\n",
    "We co-embbed articles and words in the same vector space."
   ]
  },
  {
   "cell_type": "code",
   "execution_count": null,
   "metadata": {},
   "outputs": [],
   "source": [
    "# dimension of the embedding\n",
    "n_components = 20"
   ]
  },
  {
   "cell_type": "code",
   "execution_count": null,
   "metadata": {},
   "outputs": [],
   "source": [
    "# embedding\n",
    "spectral = Spectral(n_components)\n",
    "spectral.fit(biadjacency)\n",
    "embedding_articles = spectral.embedding_row_\n",
    "embedding_words = spectral.embedding_col_"
   ]
  },
  {
   "cell_type": "code",
   "execution_count": null,
   "metadata": {},
   "outputs": [],
   "source": [
    "# visualization by TSNE\n",
    "tsne = TSNE(2)\n",
    "embedding_articles_ = tsne.fit_transform(embedding_articles[selection.ravel()])\n",
    "embedding_words_ = tsne.fit_transform(embedding_words[selection_words.ravel()])"
   ]
  },
  {
   "cell_type": "code",
   "execution_count": null,
   "metadata": {},
   "outputs": [],
   "source": [
    "# show embedding of articles\n",
    "plt.figure(figsize=(6,6))\n",
    "for label, name_label in enumerate(names_labels):\n",
    "    mask = (labels_selection==label)\n",
    "    plt.scatter(embedding_articles_[mask,0], embedding_articles_[mask,1], s=50)\n",
    "    center = np.mean(embedding_articles_[mask], axis=0)\n",
    "    plt.text(center[0], center[1], name_label)"
   ]
  },
  {
   "cell_type": "code",
   "execution_count": null,
   "metadata": {
    "scrolled": true
   },
   "outputs": [],
   "source": [
    "# show embedding of words\n",
    "plt.figure(figsize=(6,6))\n",
    "for label, name_label in enumerate(names_labels):\n",
    "    mask = (labels_selection==label)\n",
    "    plt.scatter(embedding_words_[mask,0], embedding_words_[mask,1], s=50)\n",
    "    center = np.mean(embedding_words_[mask], axis=0)\n",
    "    plt.text(center[0], center[1], name_label)"
   ]
  },
  {
   "cell_type": "markdown",
   "metadata": {},
   "source": [
    "## Hierarchical structure\n",
    "\n",
    "Finally, we show the hierarchical structure of articles and words in the embedding space."
   ]
  },
  {
   "cell_type": "code",
   "execution_count": null,
   "metadata": {},
   "outputs": [],
   "source": [
    "ward = WardDense()"
   ]
  },
  {
   "cell_type": "code",
   "execution_count": null,
   "metadata": {},
   "outputs": [],
   "source": [
    "# hierarchy of articles\n",
    "label = 0\n",
    "index = selection[label]\n",
    "dendrogram_articles = ward.fit_transform(embedding_articles[index])"
   ]
  },
  {
   "cell_type": "code",
   "execution_count": null,
   "metadata": {},
   "outputs": [],
   "source": [
    "# visualization\n",
    "image = svg_dendrogram(dendrogram_articles, names=names[index], rotate=True, width=200, scale=2, n_clusters=4)\n",
    "SVG(image)"
   ]
  },
  {
   "cell_type": "code",
   "execution_count": null,
   "metadata": {},
   "outputs": [],
   "source": [
    "# hierarchy of words\n",
    "index = selection_words[label]\n",
    "dendrogram_words = ward.fit_transform(embedding_words[index])"
   ]
  },
  {
   "cell_type": "code",
   "execution_count": null,
   "metadata": {},
   "outputs": [],
   "source": [
    "# visualization\n",
    "image = svg_dendrogram(dendrogram_words, names=words[index], rotate=True, width=200, scale=2, n_clusters=4)\n",
    "SVG(image)"
   ]
  }
 ],
 "metadata": {
  "anaconda-cloud": {},
  "hide_input": false,
  "kernelspec": {
   "display_name": "Python 3",
   "language": "python",
   "name": "python3"
  },
  "language_info": {
   "codemirror_mode": {
    "name": "ipython",
    "version": 3
   },
   "file_extension": ".py",
   "mimetype": "text/x-python",
   "name": "python",
   "nbconvert_exporter": "python",
   "pygments_lexer": "ipython3",
   "version": "3.8.3"
  }
 },
 "nbformat": 4,
 "nbformat_minor": 1
}
