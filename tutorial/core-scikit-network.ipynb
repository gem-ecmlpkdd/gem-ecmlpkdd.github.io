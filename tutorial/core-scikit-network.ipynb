{
 "cells": [
  {
   "cell_type": "markdown",
   "metadata": {},
   "source": [
    "# Hands-On Graph Analysis with scikit-network"
   ]
  },
  {
   "cell_type": "markdown",
   "metadata": {},
   "source": [
    "This notebook shows how to apply `scikit-network` to analyse network structures. It is focused on the core components of the library, and the goal is to play with very simple graphs to get a hang of the internals.\n",
    "\n",
    "We will look at a custom toy graph, as well as the famous _Karate Club_ network.\n"
   ]
  },
  {
   "cell_type": "markdown",
   "metadata": {},
   "source": [
    "## Import"
   ]
  },
  {
   "cell_type": "markdown",
   "metadata": {},
   "source": [
    "To install scikit-network, please execute the following command and restart the kernel:"
   ]
  },
  {
   "cell_type": "code",
   "execution_count": 5,
   "metadata": {},
   "outputs": [
    {
     "name": "stdout",
     "output_type": "stream",
     "text": [
      "Requirement already satisfied: scikit-network in /home/tiphaine/anaconda3/lib/python3.8/site-packages (0.24.0)\n",
      "Requirement already satisfied: numpy>=1.20.2 in /home/tiphaine/anaconda3/lib/python3.8/site-packages (from scikit-network) (1.21.2)\n",
      "Requirement already satisfied: scipy>=1.6.2 in /home/tiphaine/anaconda3/lib/python3.8/site-packages (from scikit-network) (1.7.1)\n"
     ]
    }
   ],
   "source": [
    "!pip install scikit-network"
   ]
  },
  {
   "cell_type": "code",
   "execution_count": 6,
   "metadata": {},
   "outputs": [],
   "source": [
    "from IPython.display import SVG"
   ]
  },
  {
   "cell_type": "code",
   "execution_count": 91,
   "metadata": {},
   "outputs": [],
   "source": [
    "import numpy as np\n",
    "import scipy\n",
    "from scipy import sparse\n",
    "from matplotlib import pyplot as plt"
   ]
  },
  {
   "cell_type": "code",
   "execution_count": 217,
   "metadata": {},
   "outputs": [],
   "source": [
    "from sknetwork.topology import Triangles, Cliques, is_connected, get_connected_components, are_isomorphic, WeisfeilerLehman\n",
    "from sknetwork.topology import CoreDecomposition\n",
    "from sknetwork.ranking import Katz, Betweenness\n",
    "from sknetwork.utils import Bunch\n",
    "from sknetwork.data import load_netset, karate_club\n",
    "from sknetwork.ranking import PageRank, top_k\n",
    "from sknetwork.hierarchy import LouvainHierarchy\n",
    "from sknetwork.embedding import Spectral\n",
    "from sknetwork.linalg import normalize\n",
    "from sknetwork.utils import WardDense, get_neighbors, membership_matrix\n",
    "from sknetwork.visualization import svg_graph, svg_digraph, svg_dendrogram"
   ]
  },
  {
   "cell_type": "code",
   "execution_count": 218,
   "metadata": {},
   "outputs": [],
   "source": [
    "# used for 2D visualization\n",
    "from sklearn.manifold import TSNE"
   ]
  },
  {
   "cell_type": "markdown",
   "metadata": {},
   "source": [
    "# Toy graph"
   ]
  },
  {
   "cell_type": "code",
   "execution_count": 219,
   "metadata": {},
   "outputs": [
    {
     "data": {
      "image/svg+xml": [
       "<svg xmlns=\"http://www.w3.org/2000/svg\" width=\"452.0\" height=\"340\">\n",
       "<path stroke-width=\"1\" stroke=\"gray\" d=\"M 148 320 20 189\"/>\n",
       "<path stroke-width=\"1\" stroke=\"gray\" d=\"M 420 150 246 229\"/>\n",
       "<path stroke-width=\"1\" stroke=\"gray\" d=\"M 420 150 415 293\"/>\n",
       "<path stroke-width=\"1\" stroke=\"gray\" d=\"M 291 20 420 150\"/>\n",
       "<path stroke-width=\"1\" stroke=\"gray\" d=\"M 291 20 193 110\"/>\n",
       "<path stroke-width=\"1\" stroke=\"gray\" d=\"M 291 20 24 46\"/>\n",
       "<path stroke-width=\"1\" stroke=\"gray\" d=\"M 193 110 420 150\"/>\n",
       "<path stroke-width=\"1\" stroke=\"gray\" d=\"M 193 110 291 20\"/>\n",
       "<path stroke-width=\"1\" stroke=\"gray\" d=\"M 193 110 246 229\"/>\n",
       "<path stroke-width=\"1\" stroke=\"gray\" d=\"M 193 110 24 46\"/>\n",
       "<path stroke-width=\"1\" stroke=\"gray\" d=\"M 193 110 20 189\"/>\n",
       "<path stroke-width=\"1\" stroke=\"gray\" d=\"M 246 229 420 150\"/>\n",
       "<path stroke-width=\"1\" stroke=\"gray\" d=\"M 246 229 193 110\"/>\n",
       "<path stroke-width=\"1\" stroke=\"gray\" d=\"M 246 229 415 293\"/>\n",
       "<path stroke-width=\"1\" stroke=\"gray\" d=\"M 246 229 20 189\"/>\n",
       "<path stroke-width=\"1\" stroke=\"gray\" d=\"M 246 229 148 320\"/>\n",
       "<path stroke-width=\"1\" stroke=\"gray\" d=\"M 415 293 420 150\"/>\n",
       "<path stroke-width=\"1\" stroke=\"gray\" d=\"M 415 293 246 229\"/>\n",
       "<path stroke-width=\"1\" stroke=\"gray\" d=\"M 415 293 148 320\"/>\n",
       "<path stroke-width=\"1\" stroke=\"gray\" d=\"M 24 46 291 20\"/>\n",
       "<path stroke-width=\"1\" stroke=\"gray\" d=\"M 24 46 193 110\"/>\n",
       "<path stroke-width=\"1\" stroke=\"gray\" d=\"M 24 46 20 189\"/>\n",
       "<path stroke-width=\"1\" stroke=\"gray\" d=\"M 20 189 193 110\"/>\n",
       "<path stroke-width=\"1\" stroke=\"gray\" d=\"M 20 189 246 229\"/>\n",
       "<path stroke-width=\"1\" stroke=\"gray\" d=\"M 20 189 24 46\"/>\n",
       "<path stroke-width=\"1\" stroke=\"gray\" d=\"M 20 189 148 320\"/>\n",
       "<path stroke-width=\"1\" stroke=\"gray\" d=\"M 148 320 246 229\"/>\n",
       "<path stroke-width=\"1\" stroke=\"gray\" d=\"M 148 320 415 293\"/>\n",
       "<path stroke-width=\"1\" stroke=\"gray\" d=\"M 420 150 193 110\"/>\n",
       "<path stroke-width=\"1\" stroke=\"gray\" d=\"M 420 150 291 20\"/>\n",
       "<circle cx=\"148\" cy=\"320\" r=\"7.0\" style=\"fill:gray;stroke:black;stroke-width:1.0\"/>\n",
       "<circle cx=\"20\" cy=\"189\" r=\"7.0\" style=\"fill:gray;stroke:black;stroke-width:1.0\"/>\n",
       "<circle cx=\"24\" cy=\"46\" r=\"7.0\" style=\"fill:gray;stroke:black;stroke-width:1.0\"/>\n",
       "<circle cx=\"415\" cy=\"293\" r=\"7.0\" style=\"fill:gray;stroke:black;stroke-width:1.0\"/>\n",
       "<circle cx=\"246\" cy=\"229\" r=\"7.0\" style=\"fill:gray;stroke:black;stroke-width:1.0\"/>\n",
       "<circle cx=\"193\" cy=\"110\" r=\"7.0\" style=\"fill:gray;stroke:black;stroke-width:1.0\"/>\n",
       "<circle cx=\"291\" cy=\"20\" r=\"7.0\" style=\"fill:gray;stroke:black;stroke-width:1.0\"/>\n",
       "<circle cx=\"420\" cy=\"150\" r=\"7.0\" style=\"fill:gray;stroke:black;stroke-width:1.0\"/>\n",
       "<text text-anchor=\"start\" x=\"158\" y=\"320\" font-size=\"12\">0</text><text text-anchor=\"start\" x=\"30\" y=\"189\" font-size=\"12\">1</text><text text-anchor=\"start\" x=\"34\" y=\"46\" font-size=\"12\">2</text><text text-anchor=\"start\" x=\"425\" y=\"293\" font-size=\"12\">3</text><text text-anchor=\"start\" x=\"256\" y=\"229\" font-size=\"12\">4</text><text text-anchor=\"start\" x=\"203\" y=\"110\" font-size=\"12\">5</text><text text-anchor=\"start\" x=\"301\" y=\"20\" font-size=\"12\">6</text><text text-anchor=\"start\" x=\"430\" y=\"150\" font-size=\"12\">7</text></svg>"
      ],
      "text/plain": [
       "<IPython.core.display.SVG object>"
      ]
     },
     "execution_count": 219,
     "metadata": {},
     "output_type": "execute_result"
    }
   ],
   "source": [
    "# toy graph\n",
    "data = np.array([\n",
    "    [0, 1, 0, 1, 1, 0, 0, 0],\n",
    "    [1, 0, 1, 0, 1, 1, 0, 0],\n",
    "    [0, 1, 0, 0, 0, 1, 1, 0],\n",
    "    [1, 0, 0, 0, 1, 0, 0, 1],\n",
    "    [1, 1, 0, 1, 0, 1, 0, 1],\n",
    "    [0, 1, 1, 0, 1, 0, 1, 1],\n",
    "    [0, 0, 1, 0, 0, 1, 0, 1],\n",
    "    [0, 0, 0, 1, 1, 1, 1, 0]\n",
    "])\n",
    "csr_dat = sparse.csr_matrix(data)\n",
    "\n",
    "# Create a bunch object: this is the graph\n",
    "graph = Bunch(adjacency=csr_dat, names=np.arange(8))\n",
    "SVG(svg_graph(graph.adjacency, names=graph.names))"
   ]
  },
  {
   "cell_type": "code",
   "execution_count": 220,
   "metadata": {},
   "outputs": [
    {
     "data": {
      "text/plain": [
       "array([1, 3, 4, 0, 2, 4, 5, 1, 5, 6, 0, 4, 7, 0, 1, 3, 5, 7, 1, 2, 4, 6,\n",
       "       7, 2, 5, 7, 3, 4, 5, 6], dtype=int32)"
      ]
     },
     "execution_count": 220,
     "metadata": {},
     "output_type": "execute_result"
    }
   ],
   "source": [
    "graph.adjacency.indices"
   ]
  },
  {
   "cell_type": "code",
   "execution_count": 221,
   "metadata": {},
   "outputs": [
    {
     "data": {
      "text/plain": [
       "array([ 0,  3,  7, 10, 13, 18, 23, 26, 30], dtype=int32)"
      ]
     },
     "execution_count": 221,
     "metadata": {},
     "output_type": "execute_result"
    }
   ],
   "source": [
    "graph.adjacency.indptr"
   ]
  },
  {
   "cell_type": "code",
   "execution_count": 222,
   "metadata": {},
   "outputs": [
    {
     "data": {
      "text/plain": [
       "array([1, 1, 1, 1, 1, 1, 1, 1, 1, 1, 1, 1, 1, 1, 1, 1, 1, 1, 1, 1, 1, 1,\n",
       "       1, 1, 1, 1, 1, 1, 1, 1])"
      ]
     },
     "execution_count": 222,
     "metadata": {},
     "output_type": "execute_result"
    }
   ],
   "source": [
    "graph.adjacency.data"
   ]
  },
  {
   "cell_type": "code",
   "execution_count": 223,
   "metadata": {},
   "outputs": [
    {
     "name": "stdout",
     "output_type": "stream",
     "text": [
      "There are 8 nodes and 30 edges in the graph.\n"
     ]
    }
   ],
   "source": [
    "# number of nodes, edges\n",
    "num_nodes = len(graph.adjacency.indptr) - 1\n",
    "num_edges = len(graph.adjacency.data)\n",
    "print(f\"There are {num_nodes} nodes and {num_edges} edges in the graph.\")"
   ]
  },
  {
   "cell_type": "markdown",
   "metadata": {},
   "source": [
    "## Neighbourhood and degrees\n",
    "\n",
    "Let us find the neighbours of any given node $i$, as well as its degree (its number of distinct neighbours)."
   ]
  },
  {
   "cell_type": "code",
   "execution_count": 224,
   "metadata": {},
   "outputs": [
    {
     "data": {
      "text/plain": [
       "array([0, 2, 4, 5], dtype=int32)"
      ]
     },
     "execution_count": 224,
     "metadata": {},
     "output_type": "execute_result"
    }
   ],
   "source": [
    "i = 1\n",
    "x = graph.adjacency.indptr\n",
    "neighbourhood = graph.adjacency.indices[x[i]:x[i+1]]\n",
    "neighbourhood"
   ]
  },
  {
   "cell_type": "code",
   "execution_count": 225,
   "metadata": {},
   "outputs": [
    {
     "data": {
      "text/plain": [
       "4"
      ]
     },
     "execution_count": 225,
     "metadata": {},
     "output_type": "execute_result"
    }
   ],
   "source": [
    "len(graph.adjacency.indices[x[i]:x[i+1]])"
   ]
  },
  {
   "cell_type": "markdown",
   "metadata": {},
   "source": [
    "## Density"
   ]
  },
  {
   "cell_type": "code",
   "execution_count": 226,
   "metadata": {},
   "outputs": [
    {
     "data": {
      "text/plain": [
       "0.5357142857142857"
      ]
     },
     "execution_count": 226,
     "metadata": {},
     "output_type": "execute_result"
    }
   ],
   "source": [
    "density = num_edges / (num_nodes * (num_nodes - 1))\n",
    "density"
   ]
  },
  {
   "cell_type": "markdown",
   "metadata": {},
   "source": [
    "## Visualizing the graph"
   ]
  },
  {
   "cell_type": "code",
   "execution_count": 227,
   "metadata": {},
   "outputs": [
    {
     "data": {
      "image/svg+xml": [
       "<svg xmlns=\"http://www.w3.org/2000/svg\" width=\"440\" height=\"340\">\n",
       "<path stroke-width=\"1\" stroke=\"black\" d=\"M 86 20 220 20\"/>\n",
       "<path stroke-width=\"1\" stroke=\"black\" d=\"M 220 320 153 120\"/>\n",
       "<path stroke-width=\"1\" stroke=\"black\" d=\"M 220 320 20 120\"/>\n",
       "<path stroke-width=\"1\" stroke=\"black\" d=\"M 420 120 220 320\"/>\n",
       "<path stroke-width=\"1\" stroke=\"black\" d=\"M 420 120 286 120\"/>\n",
       "<path stroke-width=\"1\" stroke=\"black\" d=\"M 420 120 353 20\"/>\n",
       "<path stroke-width=\"1\" stroke=\"black\" d=\"M 286 120 220 320\"/>\n",
       "<path stroke-width=\"1\" stroke=\"black\" d=\"M 286 120 420 120\"/>\n",
       "<path stroke-width=\"1\" stroke=\"black\" d=\"M 286 120 153 120\"/>\n",
       "<path stroke-width=\"1\" stroke=\"black\" d=\"M 286 120 353 20\"/>\n",
       "<path stroke-width=\"1\" stroke=\"black\" d=\"M 286 120 220 20\"/>\n",
       "<path stroke-width=\"1\" stroke=\"black\" d=\"M 153 120 220 320\"/>\n",
       "<path stroke-width=\"1\" stroke=\"black\" d=\"M 153 120 286 120\"/>\n",
       "<path stroke-width=\"1\" stroke=\"black\" d=\"M 153 120 20 120\"/>\n",
       "<path stroke-width=\"1\" stroke=\"black\" d=\"M 153 120 220 20\"/>\n",
       "<path stroke-width=\"1\" stroke=\"black\" d=\"M 153 120 86 20\"/>\n",
       "<path stroke-width=\"1\" stroke=\"black\" d=\"M 20 120 220 320\"/>\n",
       "<path stroke-width=\"1\" stroke=\"black\" d=\"M 20 120 153 120\"/>\n",
       "<path stroke-width=\"1\" stroke=\"black\" d=\"M 20 120 86 20\"/>\n",
       "<path stroke-width=\"1\" stroke=\"black\" d=\"M 353 20 420 120\"/>\n",
       "<path stroke-width=\"1\" stroke=\"black\" d=\"M 353 20 286 120\"/>\n",
       "<path stroke-width=\"1\" stroke=\"black\" d=\"M 353 20 220 20\"/>\n",
       "<path stroke-width=\"1\" stroke=\"black\" d=\"M 220 20 286 120\"/>\n",
       "<path stroke-width=\"1\" stroke=\"black\" d=\"M 220 20 153 120\"/>\n",
       "<path stroke-width=\"1\" stroke=\"black\" d=\"M 220 20 353 20\"/>\n",
       "<path stroke-width=\"1\" stroke=\"black\" d=\"M 220 20 86 20\"/>\n",
       "<path stroke-width=\"1\" stroke=\"black\" d=\"M 86 20 153 120\"/>\n",
       "<path stroke-width=\"1\" stroke=\"black\" d=\"M 86 20 20 120\"/>\n",
       "<path stroke-width=\"1\" stroke=\"black\" d=\"M 220 320 286 120\"/>\n",
       "<path stroke-width=\"1\" stroke=\"black\" d=\"M 220 320 420 120\"/>\n",
       "<circle cx=\"86\" cy=\"20\" r=\"7.0\" style=\"fill:gray;stroke:black;stroke-width:1.0\"/>\n",
       "<circle cx=\"220\" cy=\"20\" r=\"7.0\" style=\"fill:gray;stroke:black;stroke-width:1.0\"/>\n",
       "<circle cx=\"353\" cy=\"20\" r=\"7.0\" style=\"fill:gray;stroke:black;stroke-width:1.0\"/>\n",
       "<circle cx=\"20\" cy=\"120\" r=\"7.0\" style=\"fill:gray;stroke:black;stroke-width:1.0\"/>\n",
       "<circle cx=\"153\" cy=\"120\" r=\"7.0\" style=\"fill:gray;stroke:black;stroke-width:1.0\"/>\n",
       "<circle cx=\"286\" cy=\"120\" r=\"7.0\" style=\"fill:gray;stroke:black;stroke-width:1.0\"/>\n",
       "<circle cx=\"420\" cy=\"120\" r=\"7.0\" style=\"fill:gray;stroke:black;stroke-width:1.0\"/>\n",
       "<circle cx=\"220\" cy=\"320\" r=\"7.0\" style=\"fill:gray;stroke:black;stroke-width:1.0\"/>\n",
       "</svg>"
      ],
      "text/plain": [
       "<IPython.core.display.SVG object>"
      ]
     },
     "execution_count": 227,
     "metadata": {},
     "output_type": "execute_result"
    }
   ],
   "source": [
    "# position and vis\n",
    "graph.position = np.array([\n",
    "    [1,3],\n",
    "    [3,3],\n",
    "    [5,3],\n",
    "    [0,2],\n",
    "    [2,2],\n",
    "    [4,2],\n",
    "    [6,2],\n",
    "    [3,0]\n",
    "])\n",
    "SVG(svg_graph(graph.adjacency, position=graph.position))"
   ]
  },
  {
   "cell_type": "markdown",
   "metadata": {},
   "source": [
    "# Karate club\n",
    "\n",
    "Let us move on to a small real-world example for the rest of the tutorial. Zachary's Karate Club shows the relations between members of a karate club in the 1970s."
   ]
  },
  {
   "cell_type": "code",
   "execution_count": 228,
   "metadata": {},
   "outputs": [
    {
     "data": {
      "image/svg+xml": [
       "<svg xmlns=\"http://www.w3.org/2000/svg\" width=\"440\" height=\"340\">\n",
       "<path stroke-width=\"1\" stroke=\"black\" d=\"M 215 222 115 205\"/>\n",
       "<path stroke-width=\"1\" stroke=\"black\" d=\"M 228 32 219 101\"/>\n",
       "<path stroke-width=\"1\" stroke=\"black\" d=\"M 188 20 127 46\"/>\n",
       "<path stroke-width=\"1\" stroke=\"black\" d=\"M 188 20 228 32\"/>\n",
       "<path stroke-width=\"1\" stroke=\"black\" d=\"M 188 20 219 101\"/>\n",
       "<path stroke-width=\"1\" stroke=\"black\" d=\"M 272 48 185 52\"/>\n",
       "<path stroke-width=\"1\" stroke=\"black\" d=\"M 272 48 163 105\"/>\n",
       "<path stroke-width=\"1\" stroke=\"black\" d=\"M 144 74 141 157\"/>\n",
       "<path stroke-width=\"1\" stroke=\"black\" d=\"M 144 74 127 46\"/>\n",
       "<path stroke-width=\"1\" stroke=\"black\" d=\"M 144 74 228 32\"/>\n",
       "<path stroke-width=\"1\" stroke=\"black\" d=\"M 144 74 163 105\"/>\n",
       "<path stroke-width=\"1\" stroke=\"black\" d=\"M 251 124 141 157\"/>\n",
       "<path stroke-width=\"1\" stroke=\"black\" d=\"M 251 124 219 101\"/>\n",
       "<path stroke-width=\"1\" stroke=\"black\" d=\"M 251 124 163 105\"/>\n",
       "<path stroke-width=\"1\" stroke=\"black\" d=\"M 185 52 127 46\"/>\n",
       "<path stroke-width=\"1\" stroke=\"black\" d=\"M 185 52 272 48\"/>\n",
       "<path stroke-width=\"1\" stroke=\"black\" d=\"M 228 32 144 74\"/>\n",
       "<path stroke-width=\"1\" stroke=\"black\" d=\"M 228 32 188 20\"/>\n",
       "<path stroke-width=\"1\" stroke=\"black\" d=\"M 127 46 163 105\"/>\n",
       "<path stroke-width=\"1\" stroke=\"black\" d=\"M 127 46 142 98\"/>\n",
       "<path stroke-width=\"1\" stroke=\"black\" d=\"M 75 248 215 222\"/>\n",
       "<path stroke-width=\"1\" stroke=\"black\" d=\"M 75 248 115 205\"/>\n",
       "<path stroke-width=\"1\" stroke=\"black\" d=\"M 208 124 142 98\"/>\n",
       "<path stroke-width=\"1\" stroke=\"black\" d=\"M 208 124 163 105\"/>\n",
       "<path stroke-width=\"1\" stroke=\"black\" d=\"M 206 176 215 222\"/>\n",
       "<path stroke-width=\"1\" stroke=\"black\" d=\"M 206 176 115 205\"/>\n",
       "<path stroke-width=\"1\" stroke=\"black\" d=\"M 206 176 163 105\"/>\n",
       "<path stroke-width=\"1\" stroke=\"black\" d=\"M 185 52 142 98\"/>\n",
       "<path stroke-width=\"1\" stroke=\"black\" d=\"M 43 72 142 98\"/>\n",
       "<path stroke-width=\"1\" stroke=\"black\" d=\"M 121 261 215 222\"/>\n",
       "<path stroke-width=\"1\" stroke=\"black\" d=\"M 121 261 115 205\"/>\n",
       "<path stroke-width=\"1\" stroke=\"black\" d=\"M 283 104 142 98\"/>\n",
       "<path stroke-width=\"1\" stroke=\"black\" d=\"M 283 104 163 105\"/>\n",
       "<path stroke-width=\"1\" stroke=\"black\" d=\"M 127 46 188 20\"/>\n",
       "<path stroke-width=\"1\" stroke=\"black\" d=\"M 127 46 144 74\"/>\n",
       "<path stroke-width=\"1\" stroke=\"black\" d=\"M 127 46 185 52\"/>\n",
       "<path stroke-width=\"1\" stroke=\"black\" d=\"M 43 72 163 105\"/>\n",
       "<path stroke-width=\"1\" stroke=\"black\" d=\"M 420 320 359 276\"/>\n",
       "<path stroke-width=\"1\" stroke=\"black\" d=\"M 185 52 163 105\"/>\n",
       "<path stroke-width=\"1\" stroke=\"black\" d=\"M 83 145 171 152\"/>\n",
       "<path stroke-width=\"1\" stroke=\"black\" d=\"M 163 105 171 152\"/>\n",
       "<path stroke-width=\"1\" stroke=\"black\" d=\"M 163 105 58 111\"/>\n",
       "<path stroke-width=\"1\" stroke=\"black\" d=\"M 163 105 142 180\"/>\n",
       "<path stroke-width=\"1\" stroke=\"black\" d=\"M 163 105 20 101\"/>\n",
       "<path stroke-width=\"1\" stroke=\"black\" d=\"M 163 105 255 75\"/>\n",
       "<path stroke-width=\"1\" stroke=\"black\" d=\"M 163 105 208 124\"/>\n",
       "<path stroke-width=\"1\" stroke=\"black\" d=\"M 163 105 206 176\"/>\n",
       "<path stroke-width=\"1\" stroke=\"black\" d=\"M 163 105 43 72\"/>\n",
       "<path stroke-width=\"1\" stroke=\"black\" d=\"M 163 105 283 104\"/>\n",
       "<path stroke-width=\"1\" stroke=\"black\" d=\"M 163 105 127 46\"/>\n",
       "<path stroke-width=\"1\" stroke=\"black\" d=\"M 163 105 272 48\"/>\n",
       "<path stroke-width=\"1\" stroke=\"black\" d=\"M 163 105 144 74\"/>\n",
       "<path stroke-width=\"1\" stroke=\"black\" d=\"M 163 105 251 124\"/>\n",
       "<path stroke-width=\"1\" stroke=\"black\" d=\"M 163 105 185 52\"/>\n",
       "<path stroke-width=\"1\" stroke=\"black\" d=\"M 163 105 83 145\"/>\n",
       "<path stroke-width=\"1\" stroke=\"black\" d=\"M 142 98 163 105\"/>\n",
       "<path stroke-width=\"1\" stroke=\"black\" d=\"M 142 98 219 101\"/>\n",
       "<path stroke-width=\"1\" stroke=\"black\" d=\"M 142 98 83 145\"/>\n",
       "<path stroke-width=\"1\" stroke=\"black\" d=\"M 142 98 185 52\"/>\n",
       "<path stroke-width=\"1\" stroke=\"black\" d=\"M 83 145 142 98\"/>\n",
       "<path stroke-width=\"1\" stroke=\"black\" d=\"M 83 145 163 105\"/>\n",
       "<path stroke-width=\"1\" stroke=\"black\" d=\"M 219 101 215 222\"/>\n",
       "<path stroke-width=\"1\" stroke=\"black\" d=\"M 219 101 228 32\"/>\n",
       "<path stroke-width=\"1\" stroke=\"black\" d=\"M 219 101 188 20\"/>\n",
       "<path stroke-width=\"1\" stroke=\"black\" d=\"M 219 101 251 124\"/>\n",
       "<path stroke-width=\"1\" stroke=\"black\" d=\"M 219 101 142 98\"/>\n",
       "<path stroke-width=\"1\" stroke=\"black\" d=\"M 83 145 115 205\"/>\n",
       "<path stroke-width=\"1\" stroke=\"black\" d=\"M 219 101 163 105\"/>\n",
       "<path stroke-width=\"1\" stroke=\"black\" d=\"M 142 98 171 152\"/>\n",
       "<path stroke-width=\"1\" stroke=\"black\" d=\"M 142 98 20 101\"/>\n",
       "<path stroke-width=\"1\" stroke=\"black\" d=\"M 142 98 255 75\"/>\n",
       "<path stroke-width=\"1\" stroke=\"black\" d=\"M 142 98 208 124\"/>\n",
       "<path stroke-width=\"1\" stroke=\"black\" d=\"M 142 98 43 72\"/>\n",
       "<path stroke-width=\"1\" stroke=\"black\" d=\"M 142 98 283 104\"/>\n",
       "<path stroke-width=\"1\" stroke=\"black\" d=\"M 142 98 127 46\"/>\n",
       "<path stroke-width=\"1\" stroke=\"black\" d=\"M 142 98 141 157\"/>\n",
       "<path stroke-width=\"1\" stroke=\"black\" d=\"M 420 320 325 294\"/>\n",
       "<path stroke-width=\"1\" stroke=\"black\" d=\"M 255 75 163 105\"/>\n",
       "<path stroke-width=\"1\" stroke=\"black\" d=\"M 255 75 142 98\"/>\n",
       "<path stroke-width=\"1\" stroke=\"black\" d=\"M 115 205 75 248\"/>\n",
       "<path stroke-width=\"1\" stroke=\"black\" d=\"M 115 205 206 176\"/>\n",
       "<path stroke-width=\"1\" stroke=\"black\" d=\"M 115 205 121 261\"/>\n",
       "<path stroke-width=\"1\" stroke=\"black\" d=\"M 115 205 83 145\"/>\n",
       "<path stroke-width=\"1\" stroke=\"black\" d=\"M 141 157 215 222\"/>\n",
       "<path stroke-width=\"1\" stroke=\"black\" d=\"M 141 157 115 205\"/>\n",
       "<path stroke-width=\"1\" stroke=\"black\" d=\"M 141 157 183 209\"/>\n",
       "<path stroke-width=\"1\" stroke=\"black\" d=\"M 141 157 122 221\"/>\n",
       "<path stroke-width=\"1\" stroke=\"black\" d=\"M 141 157 171 152\"/>\n",
       "<path stroke-width=\"1\" stroke=\"black\" d=\"M 141 157 58 111\"/>\n",
       "<path stroke-width=\"1\" stroke=\"black\" d=\"M 141 157 142 180\"/>\n",
       "<path stroke-width=\"1\" stroke=\"black\" d=\"M 141 157 144 74\"/>\n",
       "<path stroke-width=\"1\" stroke=\"black\" d=\"M 141 157 251 124\"/>\n",
       "<path stroke-width=\"1\" stroke=\"black\" d=\"M 141 157 142 98\"/>\n",
       "<path stroke-width=\"1\" stroke=\"black\" d=\"M 183 209 215 222\"/>\n",
       "<path stroke-width=\"1\" stroke=\"black\" d=\"M 115 205 142 180\"/>\n",
       "<path stroke-width=\"1\" stroke=\"black\" d=\"M 115 205 122 221\"/>\n",
       "<path stroke-width=\"1\" stroke=\"black\" d=\"M 115 205 183 209\"/>\n",
       "<path stroke-width=\"1\" stroke=\"black\" d=\"M 115 205 141 157\"/>\n",
       "<path stroke-width=\"1\" stroke=\"black\" d=\"M 215 222 141 157\"/>\n",
       "<path stroke-width=\"1\" stroke=\"black\" d=\"M 215 222 183 209\"/>\n",
       "<path stroke-width=\"1\" stroke=\"black\" d=\"M 215 222 301 269\"/>\n",
       "<path stroke-width=\"1\" stroke=\"black\" d=\"M 215 222 325 294\"/>\n",
       "<path stroke-width=\"1\" stroke=\"black\" d=\"M 215 222 359 276\"/>\n",
       "<path stroke-width=\"1\" stroke=\"black\" d=\"M 215 222 122 221\"/>\n",
       "<path stroke-width=\"1\" stroke=\"black\" d=\"M 215 222 171 152\"/>\n",
       "<path stroke-width=\"1\" stroke=\"black\" d=\"M 183 209 115 205\"/>\n",
       "<path stroke-width=\"1\" stroke=\"black\" d=\"M 215 222 261 293\"/>\n",
       "<path stroke-width=\"1\" stroke=\"black\" d=\"M 215 222 300 222\"/>\n",
       "<path stroke-width=\"1\" stroke=\"black\" d=\"M 215 222 142 180\"/>\n",
       "<path stroke-width=\"1\" stroke=\"black\" d=\"M 215 222 75 248\"/>\n",
       "<path stroke-width=\"1\" stroke=\"black\" d=\"M 215 222 206 176\"/>\n",
       "<path stroke-width=\"1\" stroke=\"black\" d=\"M 215 222 121 261\"/>\n",
       "<path stroke-width=\"1\" stroke=\"black\" d=\"M 215 222 219 101\"/>\n",
       "<path stroke-width=\"1\" stroke=\"black\" d=\"M 115 205 215 222\"/>\n",
       "<path stroke-width=\"1\" stroke=\"black\" d=\"M 215 222 202 284\"/>\n",
       "<path stroke-width=\"1\" stroke=\"black\" d=\"M 183 209 141 157\"/>\n",
       "<path stroke-width=\"1\" stroke=\"black\" d=\"M 183 209 122 221\"/>\n",
       "<path stroke-width=\"1\" stroke=\"black\" d=\"M 183 209 300 222\"/>\n",
       "<path stroke-width=\"1\" stroke=\"black\" d=\"M 171 152 163 105\"/>\n",
       "<path stroke-width=\"1\" stroke=\"black\" d=\"M 58 111 141 157\"/>\n",
       "<path stroke-width=\"1\" stroke=\"black\" d=\"M 58 111 163 105\"/>\n",
       "<path stroke-width=\"1\" stroke=\"black\" d=\"M 261 293 215 222\"/>\n",
       "<path stroke-width=\"1\" stroke=\"black\" d=\"M 261 293 301 269\"/>\n",
       "<path stroke-width=\"1\" stroke=\"black\" d=\"M 261 293 325 294\"/>\n",
       "<path stroke-width=\"1\" stroke=\"black\" d=\"M 202 284 215 222\"/>\n",
       "<path stroke-width=\"1\" stroke=\"black\" d=\"M 171 152 142 98\"/>\n",
       "<path stroke-width=\"1\" stroke=\"black\" d=\"M 300 222 215 222\"/>\n",
       "<path stroke-width=\"1\" stroke=\"black\" d=\"M 142 180 215 222\"/>\n",
       "<path stroke-width=\"1\" stroke=\"black\" d=\"M 142 180 115 205\"/>\n",
       "<path stroke-width=\"1\" stroke=\"black\" d=\"M 142 180 141 157\"/>\n",
       "<path stroke-width=\"1\" stroke=\"black\" d=\"M 142 180 183 209\"/>\n",
       "<path stroke-width=\"1\" stroke=\"black\" d=\"M 142 180 163 105\"/>\n",
       "<path stroke-width=\"1\" stroke=\"black\" d=\"M 20 101 142 98\"/>\n",
       "<path stroke-width=\"1\" stroke=\"black\" d=\"M 20 101 163 105\"/>\n",
       "<path stroke-width=\"1\" stroke=\"black\" d=\"M 300 222 183 209\"/>\n",
       "<path stroke-width=\"1\" stroke=\"black\" d=\"M 163 105 219 101\"/>\n",
       "<path stroke-width=\"1\" stroke=\"black\" d=\"M 171 152 83 145\"/>\n",
       "<path stroke-width=\"1\" stroke=\"black\" d=\"M 171 152 215 222\"/>\n",
       "<path stroke-width=\"1\" stroke=\"black\" d=\"M 183 209 142 180\"/>\n",
       "<path stroke-width=\"1\" stroke=\"black\" d=\"M 301 269 215 222\"/>\n",
       "<path stroke-width=\"1\" stroke=\"black\" d=\"M 301 269 359 276\"/>\n",
       "<path stroke-width=\"1\" stroke=\"black\" d=\"M 301 269 261 293\"/>\n",
       "<path stroke-width=\"1\" stroke=\"black\" d=\"M 325 294 215 222\"/>\n",
       "<path stroke-width=\"1\" stroke=\"black\" d=\"M 325 294 359 276\"/>\n",
       "<path stroke-width=\"1\" stroke=\"black\" d=\"M 325 294 261 293\"/>\n",
       "<path stroke-width=\"1\" stroke=\"black\" d=\"M 171 152 141 157\"/>\n",
       "<path stroke-width=\"1\" stroke=\"black\" d=\"M 325 294 420 320\"/>\n",
       "<path stroke-width=\"1\" stroke=\"black\" d=\"M 359 276 301 269\"/>\n",
       "<path stroke-width=\"1\" stroke=\"black\" d=\"M 359 276 325 294\"/>\n",
       "<path stroke-width=\"1\" stroke=\"black\" d=\"M 359 276 420 320\"/>\n",
       "<path stroke-width=\"1\" stroke=\"black\" d=\"M 122 221 215 222\"/>\n",
       "<path stroke-width=\"1\" stroke=\"black\" d=\"M 122 221 115 205\"/>\n",
       "<path stroke-width=\"1\" stroke=\"black\" d=\"M 122 221 141 157\"/>\n",
       "<path stroke-width=\"1\" stroke=\"black\" d=\"M 122 221 183 209\"/>\n",
       "<path stroke-width=\"1\" stroke=\"black\" d=\"M 359 276 215 222\"/>\n",
       "<path stroke-width=\"1\" stroke=\"black\" d=\"M 163 105 142 98\"/>\n",
       "<circle cx=\"215\" cy=\"222\" r=\"7.0\" style=\"fill:red;stroke:black;stroke-width:1.0\"/>\n",
       "<circle cx=\"115\" cy=\"205\" r=\"7.0\" style=\"fill:red;stroke:black;stroke-width:1.0\"/>\n",
       "<circle cx=\"141\" cy=\"157\" r=\"7.0\" style=\"fill:red;stroke:black;stroke-width:1.0\"/>\n",
       "<circle cx=\"183\" cy=\"209\" r=\"7.0\" style=\"fill:red;stroke:black;stroke-width:1.0\"/>\n",
       "<circle cx=\"301\" cy=\"269\" r=\"7.0\" style=\"fill:red;stroke:black;stroke-width:1.0\"/>\n",
       "<circle cx=\"325\" cy=\"294\" r=\"7.0\" style=\"fill:red;stroke:black;stroke-width:1.0\"/>\n",
       "<circle cx=\"359\" cy=\"276\" r=\"7.0\" style=\"fill:red;stroke:black;stroke-width:1.0\"/>\n",
       "<circle cx=\"122\" cy=\"221\" r=\"7.0\" style=\"fill:red;stroke:black;stroke-width:1.0\"/>\n",
       "<circle cx=\"171\" cy=\"152\" r=\"7.0\" style=\"fill:red;stroke:black;stroke-width:1.0\"/>\n",
       "<circle cx=\"58\" cy=\"111\" r=\"7.0\" style=\"fill:blue;stroke:black;stroke-width:1.0\"/>\n",
       "<circle cx=\"261\" cy=\"293\" r=\"7.0\" style=\"fill:red;stroke:black;stroke-width:1.0\"/>\n",
       "<circle cx=\"202\" cy=\"284\" r=\"7.0\" style=\"fill:red;stroke:black;stroke-width:1.0\"/>\n",
       "<circle cx=\"300\" cy=\"222\" r=\"7.0\" style=\"fill:red;stroke:black;stroke-width:1.0\"/>\n",
       "<circle cx=\"142\" cy=\"180\" r=\"7.0\" style=\"fill:red;stroke:black;stroke-width:1.0\"/>\n",
       "<circle cx=\"20\" cy=\"101\" r=\"7.0\" style=\"fill:blue;stroke:black;stroke-width:1.0\"/>\n",
       "<circle cx=\"255\" cy=\"75\" r=\"7.0\" style=\"fill:blue;stroke:black;stroke-width:1.0\"/>\n",
       "<circle cx=\"420\" cy=\"320\" r=\"7.0\" style=\"fill:red;stroke:black;stroke-width:1.0\"/>\n",
       "<circle cx=\"75\" cy=\"248\" r=\"7.0\" style=\"fill:red;stroke:black;stroke-width:1.0\"/>\n",
       "<circle cx=\"208\" cy=\"124\" r=\"7.0\" style=\"fill:blue;stroke:black;stroke-width:1.0\"/>\n",
       "<circle cx=\"206\" cy=\"176\" r=\"7.0\" style=\"fill:red;stroke:black;stroke-width:1.0\"/>\n",
       "<circle cx=\"43\" cy=\"72\" r=\"7.0\" style=\"fill:blue;stroke:black;stroke-width:1.0\"/>\n",
       "<circle cx=\"121\" cy=\"261\" r=\"7.0\" style=\"fill:red;stroke:black;stroke-width:1.0\"/>\n",
       "<circle cx=\"283\" cy=\"104\" r=\"7.0\" style=\"fill:blue;stroke:black;stroke-width:1.0\"/>\n",
       "<circle cx=\"127\" cy=\"46\" r=\"7.0\" style=\"fill:blue;stroke:black;stroke-width:1.0\"/>\n",
       "<circle cx=\"228\" cy=\"32\" r=\"7.0\" style=\"fill:blue;stroke:black;stroke-width:1.0\"/>\n",
       "<circle cx=\"188\" cy=\"20\" r=\"7.0\" style=\"fill:blue;stroke:black;stroke-width:1.0\"/>\n",
       "<circle cx=\"272\" cy=\"48\" r=\"7.0\" style=\"fill:blue;stroke:black;stroke-width:1.0\"/>\n",
       "<circle cx=\"144\" cy=\"74\" r=\"7.0\" style=\"fill:blue;stroke:black;stroke-width:1.0\"/>\n",
       "<circle cx=\"251\" cy=\"124\" r=\"7.0\" style=\"fill:blue;stroke:black;stroke-width:1.0\"/>\n",
       "<circle cx=\"185\" cy=\"52\" r=\"7.0\" style=\"fill:blue;stroke:black;stroke-width:1.0\"/>\n",
       "<circle cx=\"83\" cy=\"145\" r=\"7.0\" style=\"fill:blue;stroke:black;stroke-width:1.0\"/>\n",
       "<circle cx=\"219\" cy=\"101\" r=\"7.0\" style=\"fill:blue;stroke:black;stroke-width:1.0\"/>\n",
       "<circle cx=\"142\" cy=\"98\" r=\"7.0\" style=\"fill:blue;stroke:black;stroke-width:1.0\"/>\n",
       "<circle cx=\"163\" cy=\"105\" r=\"7.0\" style=\"fill:blue;stroke:black;stroke-width:1.0\"/>\n",
       "</svg>"
      ],
      "text/plain": [
       "<IPython.core.display.SVG object>"
      ]
     },
     "execution_count": 228,
     "metadata": {},
     "output_type": "execute_result"
    }
   ],
   "source": [
    "# karate club\n",
    "k_graph = karate_club(metadata=True)\n",
    "SVG(svg_graph(k_graph.adjacency, labels=k_graph.labels))"
   ]
  },
  {
   "cell_type": "code",
   "execution_count": 229,
   "metadata": {},
   "outputs": [
    {
     "data": {
      "image/png": "[encoded data removed]",
      "text/plain": [
       "<Figure size 432x288 with 1 Axes>"
      ]
     },
     "metadata": {
      "needs_background": "light"
     },
     "output_type": "display_data"
    }
   ],
   "source": [
    "num_nodes = len(k_graph.adjacency.indptr) - 1\n",
    "num_edges = len(k_graph.adjacency.data)\n",
    "x = k_graph.adjacency.indptr\n",
    "degree = lambda i: len(k_graph.adjacency.indices[x[i]:x[i+1]])\n",
    "degrees = [ degree(i) for i in range(num_nodes)]\n",
    "_ = plt.hist(degrees, bins=num_nodes)\n",
    "plt.xlabel(\"x\")\n",
    "plt.ylabel(\"Number of nodes with degree x\")\n",
    "plt.show()"
   ]
  },
  {
   "cell_type": "markdown",
   "metadata": {},
   "source": [
    "## Topology\n",
    "\n",
    "Let us get connected components, count triangles, cliques, and look at the core decomposition of the graph."
   ]
  },
  {
   "cell_type": "code",
   "execution_count": 230,
   "metadata": {},
   "outputs": [
    {
     "data": {
      "text/plain": [
       "True"
      ]
     },
     "execution_count": 230,
     "metadata": {},
     "output_type": "execute_result"
    }
   ],
   "source": [
    "is_connected(k_graph.adjacency)"
   ]
  },
  {
   "cell_type": "code",
   "execution_count": 231,
   "metadata": {},
   "outputs": [
    {
     "data": {
      "text/plain": [
       "array([0, 0, 0, 0, 0, 0, 0, 0, 0, 0, 0, 0, 0, 0, 0, 0, 0, 0, 0, 0, 0, 0,\n",
       "       0, 0, 0, 0, 0, 0, 0, 0, 0, 0, 0, 0], dtype=int32)"
      ]
     },
     "execution_count": 231,
     "metadata": {},
     "output_type": "execute_result"
    }
   ],
   "source": [
    "conn_comps = get_connected_components(k_graph.adjacency)\n",
    "conn_comps"
   ]
  },
  {
   "cell_type": "markdown",
   "metadata": {},
   "source": [
    "### Triangles and cliques"
   ]
  },
  {
   "cell_type": "code",
   "execution_count": 232,
   "metadata": {},
   "outputs": [
    {
     "data": {
      "text/plain": [
       "45"
      ]
     },
     "execution_count": 232,
     "metadata": {},
     "output_type": "execute_result"
    }
   ],
   "source": [
    "tr = Triangles()\n",
    "tr_res = tr.fit_transform(k_graph.adjacency)\n",
    "tr_res"
   ]
  },
  {
   "cell_type": "code",
   "execution_count": 233,
   "metadata": {},
   "outputs": [
    {
     "data": {
      "text/plain": [
       "0"
      ]
     },
     "execution_count": 233,
     "metadata": {},
     "output_type": "execute_result"
    }
   ],
   "source": [
    "cliques = Cliques(4)\n",
    "cliques_res = cliques.fit_transform(graph.adjacency)\n",
    "cliques_res"
   ]
  },
  {
   "cell_type": "markdown",
   "metadata": {},
   "source": [
    "### Core decomposition"
   ]
  },
  {
   "cell_type": "code",
   "execution_count": 234,
   "metadata": {},
   "outputs": [
    {
     "data": {
      "image/svg+xml": [
       "<svg xmlns=\"http://www.w3.org/2000/svg\" width=\"440\" height=\"340\">\n",
       "<path stroke-width=\"1\" stroke=\"black\" d=\"M 264 200 353 168\"/>\n",
       "<path stroke-width=\"1\" stroke=\"black\" d=\"M 20 116 153 125\"/>\n",
       "<path stroke-width=\"1\" stroke=\"black\" d=\"M 28 91 131 68\"/>\n",
       "<path stroke-width=\"1\" stroke=\"black\" d=\"M 28 91 20 116\"/>\n",
       "<path stroke-width=\"1\" stroke=\"black\" d=\"M 28 91 153 125\"/>\n",
       "<path stroke-width=\"1\" stroke=\"black\" d=\"M 162 20 171 45\"/>\n",
       "<path stroke-width=\"1\" stroke=\"black\" d=\"M 162 20 246 82\"/>\n",
       "<path stroke-width=\"1\" stroke=\"black\" d=\"M 122 103 251 143\"/>\n",
       "<path stroke-width=\"1\" stroke=\"black\" d=\"M 122 103 131 68\"/>\n",
       "<path stroke-width=\"1\" stroke=\"black\" d=\"M 122 103 20 116\"/>\n",
       "<path stroke-width=\"1\" stroke=\"black\" d=\"M 122 103 246 82\"/>\n",
       "<path stroke-width=\"1\" stroke=\"black\" d=\"M 197 120 251 143\"/>\n",
       "<path stroke-width=\"1\" stroke=\"black\" d=\"M 197 120 153 125\"/>\n",
       "<path stroke-width=\"1\" stroke=\"black\" d=\"M 197 120 246 82\"/>\n",
       "<path stroke-width=\"1\" stroke=\"black\" d=\"M 171 45 131 68\"/>\n",
       "<path stroke-width=\"1\" stroke=\"black\" d=\"M 171 45 162 20\"/>\n",
       "<path stroke-width=\"1\" stroke=\"black\" d=\"M 20 116 122 103\"/>\n",
       "<path stroke-width=\"1\" stroke=\"black\" d=\"M 20 116 28 91\"/>\n",
       "<path stroke-width=\"1\" stroke=\"black\" d=\"M 131 68 246 82\"/>\n",
       "<path stroke-width=\"1\" stroke=\"black\" d=\"M 131 68 260 73\"/>\n",
       "<path stroke-width=\"1\" stroke=\"black\" d=\"M 388 216 264 200\"/>\n",
       "<path stroke-width=\"1\" stroke=\"black\" d=\"M 388 216 353 168\"/>\n",
       "<path stroke-width=\"1\" stroke=\"black\" d=\"M 313 34 260 73\"/>\n",
       "<path stroke-width=\"1\" stroke=\"black\" d=\"M 313 34 246 82\"/>\n",
       "<path stroke-width=\"1\" stroke=\"black\" d=\"M 331 143 264 200\"/>\n",
       "<path stroke-width=\"1\" stroke=\"black\" d=\"M 331 143 353 168\"/>\n",
       "<path stroke-width=\"1\" stroke=\"black\" d=\"M 331 143 246 82\"/>\n",
       "<path stroke-width=\"1\" stroke=\"black\" d=\"M 171 45 260 73\"/>\n",
       "<path stroke-width=\"1\" stroke=\"black\" d=\"M 366 61 260 73\"/>\n",
       "<path stroke-width=\"1\" stroke=\"black\" d=\"M 420 202 264 200\"/>\n",
       "<path stroke-width=\"1\" stroke=\"black\" d=\"M 420 202 353 168\"/>\n",
       "<path stroke-width=\"1\" stroke=\"black\" d=\"M 228 32 260 73\"/>\n",
       "<path stroke-width=\"1\" stroke=\"black\" d=\"M 228 32 246 82\"/>\n",
       "<path stroke-width=\"1\" stroke=\"black\" d=\"M 131 68 28 91\"/>\n",
       "<path stroke-width=\"1\" stroke=\"black\" d=\"M 131 68 122 103\"/>\n",
       "<path stroke-width=\"1\" stroke=\"black\" d=\"M 131 68 171 45\"/>\n",
       "<path stroke-width=\"1\" stroke=\"black\" d=\"M 366 61 246 82\"/>\n",
       "<path stroke-width=\"1\" stroke=\"black\" d=\"M 220 320 264 277\"/>\n",
       "<path stroke-width=\"1\" stroke=\"black\" d=\"M 171 45 246 82\"/>\n",
       "<path stroke-width=\"1\" stroke=\"black\" d=\"M 344 107 282 125\"/>\n",
       "<path stroke-width=\"1\" stroke=\"black\" d=\"M 246 82 282 125\"/>\n",
       "<path stroke-width=\"1\" stroke=\"black\" d=\"M 246 82 197 100\"/>\n",
       "<path stroke-width=\"1\" stroke=\"black\" d=\"M 246 82 282 153\"/>\n",
       "<path stroke-width=\"1\" stroke=\"black\" d=\"M 246 82 348 43\"/>\n",
       "<path stroke-width=\"1\" stroke=\"black\" d=\"M 246 82 273 27\"/>\n",
       "<path stroke-width=\"1\" stroke=\"black\" d=\"M 246 82 313 34\"/>\n",
       "<path stroke-width=\"1\" stroke=\"black\" d=\"M 246 82 331 143\"/>\n",
       "<path stroke-width=\"1\" stroke=\"black\" d=\"M 246 82 366 61\"/>\n",
       "<path stroke-width=\"1\" stroke=\"black\" d=\"M 246 82 228 32\"/>\n",
       "<path stroke-width=\"1\" stroke=\"black\" d=\"M 246 82 131 68\"/>\n",
       "<path stroke-width=\"1\" stroke=\"black\" d=\"M 246 82 162 20\"/>\n",
       "<path stroke-width=\"1\" stroke=\"black\" d=\"M 246 82 122 103\"/>\n",
       "<path stroke-width=\"1\" stroke=\"black\" d=\"M 246 82 197 120\"/>\n",
       "<path stroke-width=\"1\" stroke=\"black\" d=\"M 246 82 171 45\"/>\n",
       "<path stroke-width=\"1\" stroke=\"black\" d=\"M 246 82 344 107\"/>\n",
       "<path stroke-width=\"1\" stroke=\"black\" d=\"M 260 73 246 82\"/>\n",
       "<path stroke-width=\"1\" stroke=\"black\" d=\"M 260 73 153 125\"/>\n",
       "<path stroke-width=\"1\" stroke=\"black\" d=\"M 260 73 344 107\"/>\n",
       "<path stroke-width=\"1\" stroke=\"black\" d=\"M 260 73 171 45\"/>\n",
       "<path stroke-width=\"1\" stroke=\"black\" d=\"M 344 107 260 73\"/>\n",
       "<path stroke-width=\"1\" stroke=\"black\" d=\"M 344 107 246 82\"/>\n",
       "<path stroke-width=\"1\" stroke=\"black\" d=\"M 153 125 264 200\"/>\n",
       "<path stroke-width=\"1\" stroke=\"black\" d=\"M 153 125 20 116\"/>\n",
       "<path stroke-width=\"1\" stroke=\"black\" d=\"M 153 125 28 91\"/>\n",
       "<path stroke-width=\"1\" stroke=\"black\" d=\"M 153 125 197 120\"/>\n",
       "<path stroke-width=\"1\" stroke=\"black\" d=\"M 153 125 260 73\"/>\n",
       "<path stroke-width=\"1\" stroke=\"black\" d=\"M 344 107 353 168\"/>\n",
       "<path stroke-width=\"1\" stroke=\"black\" d=\"M 153 125 246 82\"/>\n",
       "<path stroke-width=\"1\" stroke=\"black\" d=\"M 260 73 282 125\"/>\n",
       "<path stroke-width=\"1\" stroke=\"black\" d=\"M 260 73 348 43\"/>\n",
       "<path stroke-width=\"1\" stroke=\"black\" d=\"M 260 73 273 27\"/>\n",
       "<path stroke-width=\"1\" stroke=\"black\" d=\"M 260 73 313 34\"/>\n",
       "<path stroke-width=\"1\" stroke=\"black\" d=\"M 260 73 366 61\"/>\n",
       "<path stroke-width=\"1\" stroke=\"black\" d=\"M 260 73 228 32\"/>\n",
       "<path stroke-width=\"1\" stroke=\"black\" d=\"M 260 73 131 68\"/>\n",
       "<path stroke-width=\"1\" stroke=\"black\" d=\"M 260 73 251 143\"/>\n",
       "<path stroke-width=\"1\" stroke=\"black\" d=\"M 220 320 211 275\"/>\n",
       "<path stroke-width=\"1\" stroke=\"black\" d=\"M 273 27 246 82\"/>\n",
       "<path stroke-width=\"1\" stroke=\"black\" d=\"M 273 27 260 73\"/>\n",
       "<path stroke-width=\"1\" stroke=\"black\" d=\"M 353 168 388 216\"/>\n",
       "<path stroke-width=\"1\" stroke=\"black\" d=\"M 353 168 331 143\"/>\n",
       "<path stroke-width=\"1\" stroke=\"black\" d=\"M 353 168 420 202\"/>\n",
       "<path stroke-width=\"1\" stroke=\"black\" d=\"M 353 168 344 107\"/>\n",
       "<path stroke-width=\"1\" stroke=\"black\" d=\"M 251 143 264 200\"/>\n",
       "<path stroke-width=\"1\" stroke=\"black\" d=\"M 251 143 353 168\"/>\n",
       "<path stroke-width=\"1\" stroke=\"black\" d=\"M 251 143 304 191\"/>\n",
       "<path stroke-width=\"1\" stroke=\"black\" d=\"M 251 143 340 186\"/>\n",
       "<path stroke-width=\"1\" stroke=\"black\" d=\"M 251 143 282 125\"/>\n",
       "<path stroke-width=\"1\" stroke=\"black\" d=\"M 251 143 197 100\"/>\n",
       "<path stroke-width=\"1\" stroke=\"black\" d=\"M 251 143 282 153\"/>\n",
       "<path stroke-width=\"1\" stroke=\"black\" d=\"M 251 143 122 103\"/>\n",
       "<path stroke-width=\"1\" stroke=\"black\" d=\"M 251 143 197 120\"/>\n",
       "<path stroke-width=\"1\" stroke=\"black\" d=\"M 251 143 260 73\"/>\n",
       "<path stroke-width=\"1\" stroke=\"black\" d=\"M 304 191 264 200\"/>\n",
       "<path stroke-width=\"1\" stroke=\"black\" d=\"M 353 168 282 153\"/>\n",
       "<path stroke-width=\"1\" stroke=\"black\" d=\"M 353 168 340 186\"/>\n",
       "<path stroke-width=\"1\" stroke=\"black\" d=\"M 353 168 304 191\"/>\n",
       "<path stroke-width=\"1\" stroke=\"black\" d=\"M 353 168 251 143\"/>\n",
       "<path stroke-width=\"1\" stroke=\"black\" d=\"M 264 200 251 143\"/>\n",
       "<path stroke-width=\"1\" stroke=\"black\" d=\"M 264 200 304 191\"/>\n",
       "<path stroke-width=\"1\" stroke=\"black\" d=\"M 264 200 255 255\"/>\n",
       "<path stroke-width=\"1\" stroke=\"black\" d=\"M 264 200 211 275\"/>\n",
       "<path stroke-width=\"1\" stroke=\"black\" d=\"M 264 200 264 277\"/>\n",
       "<path stroke-width=\"1\" stroke=\"black\" d=\"M 264 200 340 186\"/>\n",
       "<path stroke-width=\"1\" stroke=\"black\" d=\"M 264 200 282 125\"/>\n",
       "<path stroke-width=\"1\" stroke=\"black\" d=\"M 304 191 353 168\"/>\n",
       "<path stroke-width=\"1\" stroke=\"black\" d=\"M 264 200 188 252\"/>\n",
       "<path stroke-width=\"1\" stroke=\"black\" d=\"M 264 200 335 236\"/>\n",
       "<path stroke-width=\"1\" stroke=\"black\" d=\"M 264 200 282 153\"/>\n",
       "<path stroke-width=\"1\" stroke=\"black\" d=\"M 264 200 388 216\"/>\n",
       "<path stroke-width=\"1\" stroke=\"black\" d=\"M 264 200 331 143\"/>\n",
       "<path stroke-width=\"1\" stroke=\"black\" d=\"M 264 200 420 202\"/>\n",
       "<path stroke-width=\"1\" stroke=\"black\" d=\"M 264 200 153 125\"/>\n",
       "<path stroke-width=\"1\" stroke=\"black\" d=\"M 353 168 264 200\"/>\n",
       "<path stroke-width=\"1\" stroke=\"black\" d=\"M 264 200 122 212\"/>\n",
       "<path stroke-width=\"1\" stroke=\"black\" d=\"M 304 191 251 143\"/>\n",
       "<path stroke-width=\"1\" stroke=\"black\" d=\"M 304 191 340 186\"/>\n",
       "<path stroke-width=\"1\" stroke=\"black\" d=\"M 304 191 335 236\"/>\n",
       "<path stroke-width=\"1\" stroke=\"black\" d=\"M 282 125 246 82\"/>\n",
       "<path stroke-width=\"1\" stroke=\"black\" d=\"M 197 100 251 143\"/>\n",
       "<path stroke-width=\"1\" stroke=\"black\" d=\"M 197 100 246 82\"/>\n",
       "<path stroke-width=\"1\" stroke=\"black\" d=\"M 188 252 264 200\"/>\n",
       "<path stroke-width=\"1\" stroke=\"black\" d=\"M 188 252 255 255\"/>\n",
       "<path stroke-width=\"1\" stroke=\"black\" d=\"M 188 252 211 275\"/>\n",
       "<path stroke-width=\"1\" stroke=\"black\" d=\"M 122 212 264 200\"/>\n",
       "<path stroke-width=\"1\" stroke=\"black\" d=\"M 282 125 260 73\"/>\n",
       "<path stroke-width=\"1\" stroke=\"black\" d=\"M 335 236 264 200\"/>\n",
       "<path stroke-width=\"1\" stroke=\"black\" d=\"M 282 153 264 200\"/>\n",
       "<path stroke-width=\"1\" stroke=\"black\" d=\"M 282 153 353 168\"/>\n",
       "<path stroke-width=\"1\" stroke=\"black\" d=\"M 282 153 251 143\"/>\n",
       "<path stroke-width=\"1\" stroke=\"black\" d=\"M 282 153 304 191\"/>\n",
       "<path stroke-width=\"1\" stroke=\"black\" d=\"M 282 153 246 82\"/>\n",
       "<path stroke-width=\"1\" stroke=\"black\" d=\"M 348 43 260 73\"/>\n",
       "<path stroke-width=\"1\" stroke=\"black\" d=\"M 348 43 246 82\"/>\n",
       "<path stroke-width=\"1\" stroke=\"black\" d=\"M 335 236 304 191\"/>\n",
       "<path stroke-width=\"1\" stroke=\"black\" d=\"M 246 82 153 125\"/>\n",
       "<path stroke-width=\"1\" stroke=\"black\" d=\"M 282 125 344 107\"/>\n",
       "<path stroke-width=\"1\" stroke=\"black\" d=\"M 282 125 264 200\"/>\n",
       "<path stroke-width=\"1\" stroke=\"black\" d=\"M 304 191 282 153\"/>\n",
       "<path stroke-width=\"1\" stroke=\"black\" d=\"M 255 255 264 200\"/>\n",
       "<path stroke-width=\"1\" stroke=\"black\" d=\"M 255 255 264 277\"/>\n",
       "<path stroke-width=\"1\" stroke=\"black\" d=\"M 255 255 188 252\"/>\n",
       "<path stroke-width=\"1\" stroke=\"black\" d=\"M 211 275 264 200\"/>\n",
       "<path stroke-width=\"1\" stroke=\"black\" d=\"M 211 275 264 277\"/>\n",
       "<path stroke-width=\"1\" stroke=\"black\" d=\"M 211 275 188 252\"/>\n",
       "<path stroke-width=\"1\" stroke=\"black\" d=\"M 282 125 251 143\"/>\n",
       "<path stroke-width=\"1\" stroke=\"black\" d=\"M 211 275 220 320\"/>\n",
       "<path stroke-width=\"1\" stroke=\"black\" d=\"M 264 277 255 255\"/>\n",
       "<path stroke-width=\"1\" stroke=\"black\" d=\"M 264 277 211 275\"/>\n",
       "<path stroke-width=\"1\" stroke=\"black\" d=\"M 264 277 220 320\"/>\n",
       "<path stroke-width=\"1\" stroke=\"black\" d=\"M 340 186 264 200\"/>\n",
       "<path stroke-width=\"1\" stroke=\"black\" d=\"M 340 186 353 168\"/>\n",
       "<path stroke-width=\"1\" stroke=\"black\" d=\"M 340 186 251 143\"/>\n",
       "<path stroke-width=\"1\" stroke=\"black\" d=\"M 340 186 304 191\"/>\n",
       "<path stroke-width=\"1\" stroke=\"black\" d=\"M 264 277 264 200\"/>\n",
       "<path stroke-width=\"1\" stroke=\"black\" d=\"M 246 82 260 73\"/>\n",
       "<circle cx=\"264\" cy=\"200\" r=\"7.0\" style=\"fill:rgb(179, 3, 38);stroke:black;stroke-width:1.0\"/>\n",
       "<circle cx=\"353\" cy=\"168\" r=\"7.0\" style=\"fill:rgb(179, 3, 38);stroke:black;stroke-width:1.0\"/>\n",
       "<circle cx=\"251\" cy=\"143\" r=\"7.0\" style=\"fill:rgb(179, 3, 38);stroke:black;stroke-width:1.0\"/>\n",
       "<circle cx=\"304\" cy=\"191\" r=\"7.0\" style=\"fill:rgb(179, 3, 38);stroke:black;stroke-width:1.0\"/>\n",
       "<circle cx=\"255\" cy=\"255\" r=\"7.0\" style=\"fill:rgb(246, 183, 156);stroke:black;stroke-width:1.0\"/>\n",
       "<circle cx=\"211\" cy=\"275\" r=\"7.0\" style=\"fill:rgb(246, 183, 156);stroke:black;stroke-width:1.0\"/>\n",
       "<circle cx=\"264\" cy=\"277\" r=\"7.0\" style=\"fill:rgb(246, 183, 156);stroke:black;stroke-width:1.0\"/>\n",
       "<circle cx=\"340\" cy=\"186\" r=\"7.0\" style=\"fill:rgb(179, 3, 38);stroke:black;stroke-width:1.0\"/>\n",
       "<circle cx=\"282\" cy=\"125\" r=\"7.0\" style=\"fill:rgb(179, 3, 38);stroke:black;stroke-width:1.0\"/>\n",
       "<circle cx=\"197\" cy=\"100\" r=\"7.0\" style=\"fill:rgb(170, 198, 253);stroke:black;stroke-width:1.0\"/>\n",
       "<circle cx=\"188\" cy=\"252\" r=\"7.0\" style=\"fill:rgb(246, 183, 156);stroke:black;stroke-width:1.0\"/>\n",
       "<circle cx=\"122\" cy=\"212\" r=\"7.0\" style=\"fill:rgb(58, 76, 192);stroke:black;stroke-width:1.0\"/>\n",
       "<circle cx=\"335\" cy=\"236\" r=\"7.0\" style=\"fill:rgb(170, 198, 253);stroke:black;stroke-width:1.0\"/>\n",
       "<circle cx=\"282\" cy=\"153\" r=\"7.0\" style=\"fill:rgb(179, 3, 38);stroke:black;stroke-width:1.0\"/>\n",
       "<circle cx=\"348\" cy=\"43\" r=\"7.0\" style=\"fill:rgb(170, 198, 253);stroke:black;stroke-width:1.0\"/>\n",
       "<circle cx=\"273\" cy=\"27\" r=\"7.0\" style=\"fill:rgb(170, 198, 253);stroke:black;stroke-width:1.0\"/>\n",
       "<circle cx=\"220\" cy=\"320\" r=\"7.0\" style=\"fill:rgb(170, 198, 253);stroke:black;stroke-width:1.0\"/>\n",
       "<circle cx=\"388\" cy=\"216\" r=\"7.0\" style=\"fill:rgb(170, 198, 253);stroke:black;stroke-width:1.0\"/>\n",
       "<circle cx=\"313\" cy=\"34\" r=\"7.0\" style=\"fill:rgb(170, 198, 253);stroke:black;stroke-width:1.0\"/>\n",
       "<circle cx=\"331\" cy=\"143\" r=\"7.0\" style=\"fill:rgb(246, 183, 156);stroke:black;stroke-width:1.0\"/>\n",
       "<circle cx=\"366\" cy=\"61\" r=\"7.0\" style=\"fill:rgb(170, 198, 253);stroke:black;stroke-width:1.0\"/>\n",
       "<circle cx=\"420\" cy=\"202\" r=\"7.0\" style=\"fill:rgb(170, 198, 253);stroke:black;stroke-width:1.0\"/>\n",
       "<circle cx=\"228\" cy=\"32\" r=\"7.0\" style=\"fill:rgb(170, 198, 253);stroke:black;stroke-width:1.0\"/>\n",
       "<circle cx=\"131\" cy=\"68\" r=\"7.0\" style=\"fill:rgb(246, 183, 156);stroke:black;stroke-width:1.0\"/>\n",
       "<circle cx=\"20\" cy=\"116\" r=\"7.0\" style=\"fill:rgb(246, 183, 156);stroke:black;stroke-width:1.0\"/>\n",
       "<circle cx=\"28\" cy=\"91\" r=\"7.0\" style=\"fill:rgb(246, 183, 156);stroke:black;stroke-width:1.0\"/>\n",
       "<circle cx=\"162\" cy=\"20\" r=\"7.0\" style=\"fill:rgb(170, 198, 253);stroke:black;stroke-width:1.0\"/>\n",
       "<circle cx=\"122\" cy=\"103\" r=\"7.0\" style=\"fill:rgb(246, 183, 156);stroke:black;stroke-width:1.0\"/>\n",
       "<circle cx=\"197\" cy=\"120\" r=\"7.0\" style=\"fill:rgb(246, 183, 156);stroke:black;stroke-width:1.0\"/>\n",
       "<circle cx=\"171\" cy=\"45\" r=\"7.0\" style=\"fill:rgb(246, 183, 156);stroke:black;stroke-width:1.0\"/>\n",
       "<circle cx=\"344\" cy=\"107\" r=\"7.0\" style=\"fill:rgb(179, 3, 38);stroke:black;stroke-width:1.0\"/>\n",
       "<circle cx=\"153\" cy=\"125\" r=\"7.0\" style=\"fill:rgb(179, 3, 38);stroke:black;stroke-width:1.0\"/>\n",
       "<circle cx=\"260\" cy=\"73\" r=\"7.0\" style=\"fill:rgb(179, 3, 38);stroke:black;stroke-width:1.0\"/>\n",
       "<circle cx=\"246\" cy=\"82\" r=\"7.0\" style=\"fill:rgb(179, 3, 38);stroke:black;stroke-width:1.0\"/>\n",
       "</svg>"
      ],
      "text/plain": [
       "<IPython.core.display.SVG object>"
      ]
     },
     "execution_count": 234,
     "metadata": {},
     "output_type": "execute_result"
    }
   ],
   "source": [
    "core = CoreDecomposition()\n",
    "labels = core.fit_transform(k_graph.adjacency)\n",
    "image = svg_graph(k_graph.adjacency, k_graph.position, scores=labels)\n",
    "SVG(image)"
   ]
  },
  {
   "cell_type": "markdown",
   "metadata": {},
   "source": [
    "### Isomorphism Isomorphism and Weisfeiler-Lehman    "
   ]
  },
  {
   "cell_type": "code",
   "execution_count": 237,
   "metadata": {},
   "outputs": [
    {
     "data": {
      "image/svg+xml": [
       "<svg xmlns=\"http://www.w3.org/2000/svg\" width=\"440\" height=\"340\">\n",
       "<path stroke-width=\"1\" stroke=\"black\" d=\"M 171 168 190 132\"/>\n",
       "<path stroke-width=\"1\" stroke=\"black\" d=\"M 415 183 319 165\"/>\n",
       "<path stroke-width=\"1\" stroke=\"black\" d=\"M 420 139 385 199\"/>\n",
       "<path stroke-width=\"1\" stroke=\"black\" d=\"M 420 139 415 183\"/>\n",
       "<path stroke-width=\"1\" stroke=\"black\" d=\"M 420 139 319 165\"/>\n",
       "<path stroke-width=\"1\" stroke=\"black\" d=\"M 391 311 378 258\"/>\n",
       "<path stroke-width=\"1\" stroke=\"black\" d=\"M 391 311 314 217\"/>\n",
       "<path stroke-width=\"1\" stroke=\"black\" d=\"M 352 193 246 182\"/>\n",
       "<path stroke-width=\"1\" stroke=\"black\" d=\"M 352 193 385 199\"/>\n",
       "<path stroke-width=\"1\" stroke=\"black\" d=\"M 352 193 415 183\"/>\n",
       "<path stroke-width=\"1\" stroke=\"black\" d=\"M 352 193 314 217\"/>\n",
       "<path stroke-width=\"1\" stroke=\"black\" d=\"M 292 244 246 182\"/>\n",
       "<path stroke-width=\"1\" stroke=\"black\" d=\"M 292 244 319 165\"/>\n",
       "<path stroke-width=\"1\" stroke=\"black\" d=\"M 292 244 314 217\"/>\n",
       "<path stroke-width=\"1\" stroke=\"black\" d=\"M 378 258 385 199\"/>\n",
       "<path stroke-width=\"1\" stroke=\"black\" d=\"M 378 258 391 311\"/>\n",
       "<path stroke-width=\"1\" stroke=\"black\" d=\"M 415 183 352 193\"/>\n",
       "<path stroke-width=\"1\" stroke=\"black\" d=\"M 415 183 420 139\"/>\n",
       "<path stroke-width=\"1\" stroke=\"black\" d=\"M 385 199 314 217\"/>\n",
       "<path stroke-width=\"1\" stroke=\"black\" d=\"M 385 199 317 203\"/>\n",
       "<path stroke-width=\"1\" stroke=\"black\" d=\"M 112 111 171 168\"/>\n",
       "<path stroke-width=\"1\" stroke=\"black\" d=\"M 112 111 190 132\"/>\n",
       "<path stroke-width=\"1\" stroke=\"black\" d=\"M 313 109 317 203\"/>\n",
       "<path stroke-width=\"1\" stroke=\"black\" d=\"M 313 109 314 217\"/>\n",
       "<path stroke-width=\"1\" stroke=\"black\" d=\"M 241 126 171 168\"/>\n",
       "<path stroke-width=\"1\" stroke=\"black\" d=\"M 241 126 190 132\"/>\n",
       "<path stroke-width=\"1\" stroke=\"black\" d=\"M 241 126 314 217\"/>\n",
       "<path stroke-width=\"1\" stroke=\"black\" d=\"M 378 258 317 203\"/>\n",
       "<path stroke-width=\"1\" stroke=\"black\" d=\"M 288 316 317 203\"/>\n",
       "<path stroke-width=\"1\" stroke=\"black\" d=\"M 156 53 171 168\"/>\n",
       "<path stroke-width=\"1\" stroke=\"black\" d=\"M 156 53 190 132\"/>\n",
       "<path stroke-width=\"1\" stroke=\"black\" d=\"M 367 133 317 203\"/>\n",
       "<path stroke-width=\"1\" stroke=\"black\" d=\"M 367 133 314 217\"/>\n",
       "<path stroke-width=\"1\" stroke=\"black\" d=\"M 385 199 420 139\"/>\n",
       "<path stroke-width=\"1\" stroke=\"black\" d=\"M 385 199 352 193\"/>\n",
       "<path stroke-width=\"1\" stroke=\"black\" d=\"M 385 199 378 258\"/>\n",
       "<path stroke-width=\"1\" stroke=\"black\" d=\"M 288 316 314 217\"/>\n",
       "<path stroke-width=\"1\" stroke=\"black\" d=\"M 20 295 81 266\"/>\n",
       "<path stroke-width=\"1\" stroke=\"black\" d=\"M 378 258 314 217\"/>\n",
       "<path stroke-width=\"1\" stroke=\"black\" d=\"M 249 210 244 240\"/>\n",
       "<path stroke-width=\"1\" stroke=\"black\" d=\"M 314 217 244 240\"/>\n",
       "<path stroke-width=\"1\" stroke=\"black\" d=\"M 314 217 300 286\"/>\n",
       "<path stroke-width=\"1\" stroke=\"black\" d=\"M 314 217 222 161\"/>\n",
       "<path stroke-width=\"1\" stroke=\"black\" d=\"M 314 217 342 106\"/>\n",
       "<path stroke-width=\"1\" stroke=\"black\" d=\"M 314 217 331 320\"/>\n",
       "<path stroke-width=\"1\" stroke=\"black\" d=\"M 314 217 313 109\"/>\n",
       "<path stroke-width=\"1\" stroke=\"black\" d=\"M 314 217 241 126\"/>\n",
       "<path stroke-width=\"1\" stroke=\"black\" d=\"M 314 217 288 316\"/>\n",
       "<path stroke-width=\"1\" stroke=\"black\" d=\"M 314 217 367 133\"/>\n",
       "<path stroke-width=\"1\" stroke=\"black\" d=\"M 314 217 385 199\"/>\n",
       "<path stroke-width=\"1\" stroke=\"black\" d=\"M 314 217 391 311\"/>\n",
       "<path stroke-width=\"1\" stroke=\"black\" d=\"M 314 217 352 193\"/>\n",
       "<path stroke-width=\"1\" stroke=\"black\" d=\"M 314 217 292 244\"/>\n",
       "<path stroke-width=\"1\" stroke=\"black\" d=\"M 314 217 378 258\"/>\n",
       "<path stroke-width=\"1\" stroke=\"black\" d=\"M 314 217 249 210\"/>\n",
       "<path stroke-width=\"1\" stroke=\"black\" d=\"M 317 203 314 217\"/>\n",
       "<path stroke-width=\"1\" stroke=\"black\" d=\"M 317 203 319 165\"/>\n",
       "<path stroke-width=\"1\" stroke=\"black\" d=\"M 317 203 249 210\"/>\n",
       "<path stroke-width=\"1\" stroke=\"black\" d=\"M 317 203 378 258\"/>\n",
       "<path stroke-width=\"1\" stroke=\"black\" d=\"M 249 210 317 203\"/>\n",
       "<path stroke-width=\"1\" stroke=\"black\" d=\"M 249 210 314 217\"/>\n",
       "<path stroke-width=\"1\" stroke=\"black\" d=\"M 319 165 171 168\"/>\n",
       "<path stroke-width=\"1\" stroke=\"black\" d=\"M 319 165 415 183\"/>\n",
       "<path stroke-width=\"1\" stroke=\"black\" d=\"M 319 165 420 139\"/>\n",
       "<path stroke-width=\"1\" stroke=\"black\" d=\"M 319 165 292 244\"/>\n",
       "<path stroke-width=\"1\" stroke=\"black\" d=\"M 319 165 317 203\"/>\n",
       "<path stroke-width=\"1\" stroke=\"black\" d=\"M 249 210 190 132\"/>\n",
       "<path stroke-width=\"1\" stroke=\"black\" d=\"M 319 165 314 217\"/>\n",
       "<path stroke-width=\"1\" stroke=\"black\" d=\"M 317 203 244 240\"/>\n",
       "<path stroke-width=\"1\" stroke=\"black\" d=\"M 317 203 342 106\"/>\n",
       "<path stroke-width=\"1\" stroke=\"black\" d=\"M 317 203 331 320\"/>\n",
       "<path stroke-width=\"1\" stroke=\"black\" d=\"M 317 203 313 109\"/>\n",
       "<path stroke-width=\"1\" stroke=\"black\" d=\"M 317 203 288 316\"/>\n",
       "<path stroke-width=\"1\" stroke=\"black\" d=\"M 317 203 367 133\"/>\n",
       "<path stroke-width=\"1\" stroke=\"black\" d=\"M 317 203 385 199\"/>\n",
       "<path stroke-width=\"1\" stroke=\"black\" d=\"M 317 203 246 182\"/>\n",
       "<path stroke-width=\"1\" stroke=\"black\" d=\"M 20 295 69 227\"/>\n",
       "<path stroke-width=\"1\" stroke=\"black\" d=\"M 331 320 314 217\"/>\n",
       "<path stroke-width=\"1\" stroke=\"black\" d=\"M 331 320 317 203\"/>\n",
       "<path stroke-width=\"1\" stroke=\"black\" d=\"M 190 132 112 111\"/>\n",
       "<path stroke-width=\"1\" stroke=\"black\" d=\"M 190 132 241 126\"/>\n",
       "<path stroke-width=\"1\" stroke=\"black\" d=\"M 190 132 156 53\"/>\n",
       "<path stroke-width=\"1\" stroke=\"black\" d=\"M 190 132 249 210\"/>\n",
       "<path stroke-width=\"1\" stroke=\"black\" d=\"M 246 182 171 168\"/>\n",
       "<path stroke-width=\"1\" stroke=\"black\" d=\"M 246 182 190 132\"/>\n",
       "<path stroke-width=\"1\" stroke=\"black\" d=\"M 246 182 179 104\"/>\n",
       "<path stroke-width=\"1\" stroke=\"black\" d=\"M 246 182 158 147\"/>\n",
       "<path stroke-width=\"1\" stroke=\"black\" d=\"M 246 182 244 240\"/>\n",
       "<path stroke-width=\"1\" stroke=\"black\" d=\"M 246 182 300 286\"/>\n",
       "<path stroke-width=\"1\" stroke=\"black\" d=\"M 246 182 222 161\"/>\n",
       "<path stroke-width=\"1\" stroke=\"black\" d=\"M 246 182 352 193\"/>\n",
       "<path stroke-width=\"1\" stroke=\"black\" d=\"M 246 182 292 244\"/>\n",
       "<path stroke-width=\"1\" stroke=\"black\" d=\"M 246 182 317 203\"/>\n",
       "<path stroke-width=\"1\" stroke=\"black\" d=\"M 179 104 171 168\"/>\n",
       "<path stroke-width=\"1\" stroke=\"black\" d=\"M 190 132 222 161\"/>\n",
       "<path stroke-width=\"1\" stroke=\"black\" d=\"M 190 132 158 147\"/>\n",
       "<path stroke-width=\"1\" stroke=\"black\" d=\"M 190 132 179 104\"/>\n",
       "<path stroke-width=\"1\" stroke=\"black\" d=\"M 190 132 246 182\"/>\n",
       "<path stroke-width=\"1\" stroke=\"black\" d=\"M 171 168 246 182\"/>\n",
       "<path stroke-width=\"1\" stroke=\"black\" d=\"M 171 168 179 104\"/>\n",
       "<path stroke-width=\"1\" stroke=\"black\" d=\"M 171 168 120 277\"/>\n",
       "<path stroke-width=\"1\" stroke=\"black\" d=\"M 171 168 69 227\"/>\n",
       "<path stroke-width=\"1\" stroke=\"black\" d=\"M 171 168 81 266\"/>\n",
       "<path stroke-width=\"1\" stroke=\"black\" d=\"M 171 168 158 147\"/>\n",
       "<path stroke-width=\"1\" stroke=\"black\" d=\"M 171 168 244 240\"/>\n",
       "<path stroke-width=\"1\" stroke=\"black\" d=\"M 179 104 190 132\"/>\n",
       "<path stroke-width=\"1\" stroke=\"black\" d=\"M 171 168 105 231\"/>\n",
       "<path stroke-width=\"1\" stroke=\"black\" d=\"M 171 168 124 56\"/>\n",
       "<path stroke-width=\"1\" stroke=\"black\" d=\"M 171 168 222 161\"/>\n",
       "<path stroke-width=\"1\" stroke=\"black\" d=\"M 171 168 112 111\"/>\n",
       "<path stroke-width=\"1\" stroke=\"black\" d=\"M 171 168 241 126\"/>\n",
       "<path stroke-width=\"1\" stroke=\"black\" d=\"M 171 168 156 53\"/>\n",
       "<path stroke-width=\"1\" stroke=\"black\" d=\"M 171 168 319 165\"/>\n",
       "<path stroke-width=\"1\" stroke=\"black\" d=\"M 190 132 171 168\"/>\n",
       "<path stroke-width=\"1\" stroke=\"black\" d=\"M 171 168 190 20\"/>\n",
       "<path stroke-width=\"1\" stroke=\"black\" d=\"M 179 104 246 182\"/>\n",
       "<path stroke-width=\"1\" stroke=\"black\" d=\"M 179 104 158 147\"/>\n",
       "<path stroke-width=\"1\" stroke=\"black\" d=\"M 179 104 124 56\"/>\n",
       "<path stroke-width=\"1\" stroke=\"black\" d=\"M 244 240 314 217\"/>\n",
       "<path stroke-width=\"1\" stroke=\"black\" d=\"M 300 286 246 182\"/>\n",
       "<path stroke-width=\"1\" stroke=\"black\" d=\"M 300 286 314 217\"/>\n",
       "<path stroke-width=\"1\" stroke=\"black\" d=\"M 105 231 171 168\"/>\n",
       "<path stroke-width=\"1\" stroke=\"black\" d=\"M 105 231 120 277\"/>\n",
       "<path stroke-width=\"1\" stroke=\"black\" d=\"M 105 231 69 227\"/>\n",
       "<path stroke-width=\"1\" stroke=\"black\" d=\"M 190 20 171 168\"/>\n",
       "<path stroke-width=\"1\" stroke=\"black\" d=\"M 244 240 317 203\"/>\n",
       "<path stroke-width=\"1\" stroke=\"black\" d=\"M 124 56 171 168\"/>\n",
       "<path stroke-width=\"1\" stroke=\"black\" d=\"M 222 161 171 168\"/>\n",
       "<path stroke-width=\"1\" stroke=\"black\" d=\"M 222 161 190 132\"/>\n",
       "<path stroke-width=\"1\" stroke=\"black\" d=\"M 222 161 246 182\"/>\n",
       "<path stroke-width=\"1\" stroke=\"black\" d=\"M 222 161 179 104\"/>\n",
       "<path stroke-width=\"1\" stroke=\"black\" d=\"M 222 161 314 217\"/>\n",
       "<path stroke-width=\"1\" stroke=\"black\" d=\"M 342 106 317 203\"/>\n",
       "<path stroke-width=\"1\" stroke=\"black\" d=\"M 342 106 314 217\"/>\n",
       "<path stroke-width=\"1\" stroke=\"black\" d=\"M 124 56 179 104\"/>\n",
       "<path stroke-width=\"1\" stroke=\"black\" d=\"M 314 217 319 165\"/>\n",
       "<path stroke-width=\"1\" stroke=\"black\" d=\"M 244 240 249 210\"/>\n",
       "<path stroke-width=\"1\" stroke=\"black\" d=\"M 244 240 171 168\"/>\n",
       "<path stroke-width=\"1\" stroke=\"black\" d=\"M 179 104 222 161\"/>\n",
       "<path stroke-width=\"1\" stroke=\"black\" d=\"M 120 277 171 168\"/>\n",
       "<path stroke-width=\"1\" stroke=\"black\" d=\"M 120 277 81 266\"/>\n",
       "<path stroke-width=\"1\" stroke=\"black\" d=\"M 120 277 105 231\"/>\n",
       "<path stroke-width=\"1\" stroke=\"black\" d=\"M 69 227 171 168\"/>\n",
       "<path stroke-width=\"1\" stroke=\"black\" d=\"M 69 227 81 266\"/>\n",
       "<path stroke-width=\"1\" stroke=\"black\" d=\"M 69 227 105 231\"/>\n",
       "<path stroke-width=\"1\" stroke=\"black\" d=\"M 244 240 246 182\"/>\n",
       "<path stroke-width=\"1\" stroke=\"black\" d=\"M 69 227 20 295\"/>\n",
       "<path stroke-width=\"1\" stroke=\"black\" d=\"M 81 266 120 277\"/>\n",
       "<path stroke-width=\"1\" stroke=\"black\" d=\"M 81 266 69 227\"/>\n",
       "<path stroke-width=\"1\" stroke=\"black\" d=\"M 81 266 20 295\"/>\n",
       "<path stroke-width=\"1\" stroke=\"black\" d=\"M 158 147 171 168\"/>\n",
       "<path stroke-width=\"1\" stroke=\"black\" d=\"M 158 147 190 132\"/>\n",
       "<path stroke-width=\"1\" stroke=\"black\" d=\"M 158 147 246 182\"/>\n",
       "<path stroke-width=\"1\" stroke=\"black\" d=\"M 158 147 179 104\"/>\n",
       "<path stroke-width=\"1\" stroke=\"black\" d=\"M 81 266 171 168\"/>\n",
       "<path stroke-width=\"1\" stroke=\"black\" d=\"M 314 217 317 203\"/>\n",
       "<circle cx=\"171\" cy=\"168\" r=\"7.0\" style=\"fill:yellow;stroke:black;stroke-width:1.0\"/>\n",
       "<circle cx=\"190\" cy=\"132\" r=\"7.0\" style=\"fill:green;stroke:black;stroke-width:1.0\"/>\n",
       "<circle cx=\"246\" cy=\"182\" r=\"7.0\" style=\"fill:orange;stroke:black;stroke-width:1.0\"/>\n",
       "<circle cx=\"179\" cy=\"104\" r=\"7.0\" style=\"fill:blue;stroke:black;stroke-width:1.0\"/>\n",
       "<circle cx=\"120\" cy=\"277\" r=\"7.0\" style=\"fill:brown;stroke:black;stroke-width:1.0\"/>\n",
       "<circle cx=\"69\" cy=\"227\" r=\"7.0\" style=\"fill:green;stroke:black;stroke-width:1.0\"/>\n",
       "<circle cx=\"81\" cy=\"266\" r=\"7.0\" style=\"fill:green;stroke:black;stroke-width:1.0\"/>\n",
       "<circle cx=\"158\" cy=\"147\" r=\"7.0\" style=\"fill:orange;stroke:black;stroke-width:1.0\"/>\n",
       "<circle cx=\"244\" cy=\"240\" r=\"7.0\" style=\"fill:olive;stroke:black;stroke-width:1.0\"/>\n",
       "<circle cx=\"300\" cy=\"286\" r=\"7.0\" style=\"fill:purple;stroke:black;stroke-width:1.0\"/>\n",
       "<circle cx=\"105\" cy=\"231\" r=\"7.0\" style=\"fill:brown;stroke:black;stroke-width:1.0\"/>\n",
       "<circle cx=\"190\" cy=\"20\" r=\"7.0\" style=\"fill:blue;stroke:black;stroke-width:1.0\"/>\n",
       "<circle cx=\"124\" cy=\"56\" r=\"7.0\" style=\"fill:green;stroke:black;stroke-width:1.0\"/>\n",
       "<circle cx=\"222\" cy=\"161\" r=\"7.0\" style=\"fill:aqua;stroke:black;stroke-width:1.0\"/>\n",
       "<circle cx=\"342\" cy=\"106\" r=\"7.0\" style=\"fill:fuchsia;stroke:black;stroke-width:1.0\"/>\n",
       "<circle cx=\"331\" cy=\"320\" r=\"7.0\" style=\"fill:fuchsia;stroke:black;stroke-width:1.0\"/>\n",
       "<circle cx=\"20\" cy=\"295\" r=\"7.0\" style=\"fill:red;stroke:black;stroke-width:1.0\"/>\n",
       "<circle cx=\"112\" cy=\"111\" r=\"7.0\" style=\"fill:yellow;stroke:black;stroke-width:1.0\"/>\n",
       "<circle cx=\"313\" cy=\"109\" r=\"7.0\" style=\"fill:fuchsia;stroke:black;stroke-width:1.0\"/>\n",
       "<circle cx=\"241\" cy=\"126\" r=\"7.0\" style=\"fill:blue;stroke:black;stroke-width:1.0\"/>\n",
       "<circle cx=\"288\" cy=\"316\" r=\"7.0\" style=\"fill:fuchsia;stroke:black;stroke-width:1.0\"/>\n",
       "<circle cx=\"156\" cy=\"53\" r=\"7.0\" style=\"fill:yellow;stroke:black;stroke-width:1.0\"/>\n",
       "<circle cx=\"367\" cy=\"133\" r=\"7.0\" style=\"fill:fuchsia;stroke:black;stroke-width:1.0\"/>\n",
       "<circle cx=\"385\" cy=\"199\" r=\"7.0\" style=\"fill:brown;stroke:black;stroke-width:1.0\"/>\n",
       "<circle cx=\"415\" cy=\"183\" r=\"7.0\" style=\"fill:aqua;stroke:black;stroke-width:1.0\"/>\n",
       "<circle cx=\"420\" cy=\"139\" r=\"7.0\" style=\"fill:red;stroke:black;stroke-width:1.0\"/>\n",
       "<circle cx=\"391\" cy=\"311\" r=\"7.0\" style=\"fill:orange;stroke:black;stroke-width:1.0\"/>\n",
       "<circle cx=\"352\" cy=\"193\" r=\"7.0\" style=\"fill:yellow;stroke:black;stroke-width:1.0\"/>\n",
       "<circle cx=\"292\" cy=\"244\" r=\"7.0\" style=\"fill:olive;stroke:black;stroke-width:1.0\"/>\n",
       "<circle cx=\"378\" cy=\"258\" r=\"7.0\" style=\"fill:purple;stroke:black;stroke-width:1.0\"/>\n",
       "<circle cx=\"249\" cy=\"210\" r=\"7.0\" style=\"fill:fuchsia;stroke:black;stroke-width:1.0\"/>\n",
       "<circle cx=\"319\" cy=\"165\" r=\"7.0\" style=\"fill:red;stroke:black;stroke-width:1.0\"/>\n",
       "<circle cx=\"317\" cy=\"203\" r=\"7.0\" style=\"fill:purple;stroke:black;stroke-width:1.0\"/>\n",
       "<circle cx=\"314\" cy=\"217\" r=\"7.0\" style=\"fill:fuchsia;stroke:black;stroke-width:1.0\"/>\n",
       "</svg>"
      ],
      "text/plain": [
       "<IPython.core.display.SVG object>"
      ]
     },
     "execution_count": 237,
     "metadata": {},
     "output_type": "execute_result"
    }
   ],
   "source": [
    "weisfeiler_lehman = WeisfeilerLehman()\n",
    "labels = weisfeiler_lehman.fit_transform(k_graph.adjacency)\n",
    "\n",
    "SVG(svg_graph(k_graph.adjacency, labels=labels))"
   ]
  },
  {
   "cell_type": "code",
   "execution_count": 239,
   "metadata": {},
   "outputs": [
    {
     "data": {
      "text/plain": [
       "False"
      ]
     },
     "execution_count": 239,
     "metadata": {},
     "output_type": "execute_result"
    }
   ],
   "source": [
    "are_isomorphic(graph.adjacency, k_graph.adjacency)"
   ]
  },
  {
   "cell_type": "markdown",
   "metadata": {},
   "source": [
    "## Centralities"
   ]
  },
  {
   "cell_type": "markdown",
   "metadata": {},
   "source": [
    "Let us try to find central nodes in the Karate Club graph. We will compare betweenness centrality, Katz centrality and PageRank."
   ]
  },
  {
   "cell_type": "code",
   "execution_count": 212,
   "metadata": {},
   "outputs": [
    {
     "data": {
      "text/plain": [
       "array([231.07143021,  28.47857147,  75.85079345,   6.28809533,\n",
       "         0.33333334,  15.83333336,  15.83333336,   0.        ,\n",
       "        29.52936514,   0.44761906,   0.33333334,   0.        ,\n",
       "         0.        ,  24.21587315,   0.        ,   0.        ,\n",
       "         0.        ,   0.        ,   0.        ,  17.14682536,\n",
       "         0.        ,   0.        ,   0.        ,   9.3       ,\n",
       "         1.16666668,   2.02777777,   0.        ,  11.79206363,\n",
       "         0.94761907,   1.54285717,   7.60952402,  73.00952414,\n",
       "        76.69047808, 160.55158979])"
      ]
     },
     "execution_count": 212,
     "metadata": {},
     "output_type": "execute_result"
    }
   ],
   "source": [
    "bw = Betweenness()\n",
    "bw_scores = bw.fit_transform(k_graph.adjacency)\n",
    "bw_scores"
   ]
  },
  {
   "cell_type": "code",
   "execution_count": 213,
   "metadata": {},
   "outputs": [
    {
     "data": {
      "image/svg+xml": [
       "<svg xmlns=\"http://www.w3.org/2000/svg\" width=\"440\" height=\"340\">\n",
       "<path stroke-width=\"1\" stroke=\"black\" d=\"M 149 167 179 131\"/>\n",
       "<path stroke-width=\"1\" stroke=\"black\" d=\"M 366 20 298 107\"/>\n",
       "<path stroke-width=\"1\" stroke=\"black\" d=\"M 399 52 386 118\"/>\n",
       "<path stroke-width=\"1\" stroke=\"black\" d=\"M 399 52 366 20\"/>\n",
       "<path stroke-width=\"1\" stroke=\"black\" d=\"M 399 52 298 107\"/>\n",
       "<path stroke-width=\"1\" stroke=\"black\" d=\"M 348 44 371 96\"/>\n",
       "<path stroke-width=\"1\" stroke=\"black\" d=\"M 348 44 330 158\"/>\n",
       "<path stroke-width=\"1\" stroke=\"black\" d=\"M 326 82 239 145\"/>\n",
       "<path stroke-width=\"1\" stroke=\"black\" d=\"M 326 82 386 118\"/>\n",
       "<path stroke-width=\"1\" stroke=\"black\" d=\"M 326 82 366 20\"/>\n",
       "<path stroke-width=\"1\" stroke=\"black\" d=\"M 326 82 330 158\"/>\n",
       "<path stroke-width=\"1\" stroke=\"black\" d=\"M 295 180 239 145\"/>\n",
       "<path stroke-width=\"1\" stroke=\"black\" d=\"M 295 180 298 107\"/>\n",
       "<path stroke-width=\"1\" stroke=\"black\" d=\"M 295 180 330 158\"/>\n",
       "<path stroke-width=\"1\" stroke=\"black\" d=\"M 371 96 386 118\"/>\n",
       "<path stroke-width=\"1\" stroke=\"black\" d=\"M 371 96 348 44\"/>\n",
       "<path stroke-width=\"1\" stroke=\"black\" d=\"M 366 20 326 82\"/>\n",
       "<path stroke-width=\"1\" stroke=\"black\" d=\"M 366 20 399 52\"/>\n",
       "<path stroke-width=\"1\" stroke=\"black\" d=\"M 386 118 330 158\"/>\n",
       "<path stroke-width=\"1\" stroke=\"black\" d=\"M 386 118 348 171\"/>\n",
       "<path stroke-width=\"1\" stroke=\"black\" d=\"M 120 80 149 167\"/>\n",
       "<path stroke-width=\"1\" stroke=\"black\" d=\"M 120 80 179 131\"/>\n",
       "<path stroke-width=\"1\" stroke=\"black\" d=\"M 420 177 348 171\"/>\n",
       "<path stroke-width=\"1\" stroke=\"black\" d=\"M 420 177 330 158\"/>\n",
       "<path stroke-width=\"1\" stroke=\"black\" d=\"M 218 188 149 167\"/>\n",
       "<path stroke-width=\"1\" stroke=\"black\" d=\"M 218 188 179 131\"/>\n",
       "<path stroke-width=\"1\" stroke=\"black\" d=\"M 218 188 330 158\"/>\n",
       "<path stroke-width=\"1\" stroke=\"black\" d=\"M 371 96 348 171\"/>\n",
       "<path stroke-width=\"1\" stroke=\"black\" d=\"M 414 122 348 171\"/>\n",
       "<path stroke-width=\"1\" stroke=\"black\" d=\"M 94 131 149 167\"/>\n",
       "<path stroke-width=\"1\" stroke=\"black\" d=\"M 94 131 179 131\"/>\n",
       "<path stroke-width=\"1\" stroke=\"black\" d=\"M 387 238 348 171\"/>\n",
       "<path stroke-width=\"1\" stroke=\"black\" d=\"M 387 238 330 158\"/>\n",
       "<path stroke-width=\"1\" stroke=\"black\" d=\"M 386 118 399 52\"/>\n",
       "<path stroke-width=\"1\" stroke=\"black\" d=\"M 386 118 326 82\"/>\n",
       "<path stroke-width=\"1\" stroke=\"black\" d=\"M 386 118 371 96\"/>\n",
       "<path stroke-width=\"1\" stroke=\"black\" d=\"M 414 122 330 158\"/>\n",
       "<path stroke-width=\"1\" stroke=\"black\" d=\"M 20 320 73 265\"/>\n",
       "<path stroke-width=\"1\" stroke=\"black\" d=\"M 371 96 330 158\"/>\n",
       "<path stroke-width=\"1\" stroke=\"black\" d=\"M 272 148 256 189\"/>\n",
       "<path stroke-width=\"1\" stroke=\"black\" d=\"M 330 158 256 189\"/>\n",
       "<path stroke-width=\"1\" stroke=\"black\" d=\"M 330 158 294 231\"/>\n",
       "<path stroke-width=\"1\" stroke=\"black\" d=\"M 330 158 219 116\"/>\n",
       "<path stroke-width=\"1\" stroke=\"black\" d=\"M 330 158 408 212\"/>\n",
       "<path stroke-width=\"1\" stroke=\"black\" d=\"M 330 158 357 253\"/>\n",
       "<path stroke-width=\"1\" stroke=\"black\" d=\"M 330 158 420 177\"/>\n",
       "<path stroke-width=\"1\" stroke=\"black\" d=\"M 330 158 218 188\"/>\n",
       "<path stroke-width=\"1\" stroke=\"black\" d=\"M 330 158 414 122\"/>\n",
       "<path stroke-width=\"1\" stroke=\"black\" d=\"M 330 158 387 238\"/>\n",
       "<path stroke-width=\"1\" stroke=\"black\" d=\"M 330 158 386 118\"/>\n",
       "<path stroke-width=\"1\" stroke=\"black\" d=\"M 330 158 348 44\"/>\n",
       "<path stroke-width=\"1\" stroke=\"black\" d=\"M 330 158 326 82\"/>\n",
       "<path stroke-width=\"1\" stroke=\"black\" d=\"M 330 158 295 180\"/>\n",
       "<path stroke-width=\"1\" stroke=\"black\" d=\"M 330 158 371 96\"/>\n",
       "<path stroke-width=\"1\" stroke=\"black\" d=\"M 330 158 272 148\"/>\n",
       "<path stroke-width=\"1\" stroke=\"black\" d=\"M 348 171 330 158\"/>\n",
       "<path stroke-width=\"1\" stroke=\"black\" d=\"M 348 171 298 107\"/>\n",
       "<path stroke-width=\"1\" stroke=\"black\" d=\"M 348 171 272 148\"/>\n",
       "<path stroke-width=\"1\" stroke=\"black\" d=\"M 348 171 371 96\"/>\n",
       "<path stroke-width=\"1\" stroke=\"black\" d=\"M 272 148 348 171\"/>\n",
       "<path stroke-width=\"1\" stroke=\"black\" d=\"M 272 148 330 158\"/>\n",
       "<path stroke-width=\"1\" stroke=\"black\" d=\"M 298 107 149 167\"/>\n",
       "<path stroke-width=\"1\" stroke=\"black\" d=\"M 298 107 366 20\"/>\n",
       "<path stroke-width=\"1\" stroke=\"black\" d=\"M 298 107 399 52\"/>\n",
       "<path stroke-width=\"1\" stroke=\"black\" d=\"M 298 107 295 180\"/>\n",
       "<path stroke-width=\"1\" stroke=\"black\" d=\"M 298 107 348 171\"/>\n",
       "<path stroke-width=\"1\" stroke=\"black\" d=\"M 272 148 179 131\"/>\n",
       "<path stroke-width=\"1\" stroke=\"black\" d=\"M 298 107 330 158\"/>\n",
       "<path stroke-width=\"1\" stroke=\"black\" d=\"M 348 171 256 189\"/>\n",
       "<path stroke-width=\"1\" stroke=\"black\" d=\"M 348 171 408 212\"/>\n",
       "<path stroke-width=\"1\" stroke=\"black\" d=\"M 348 171 357 253\"/>\n",
       "<path stroke-width=\"1\" stroke=\"black\" d=\"M 348 171 420 177\"/>\n",
       "<path stroke-width=\"1\" stroke=\"black\" d=\"M 348 171 414 122\"/>\n",
       "<path stroke-width=\"1\" stroke=\"black\" d=\"M 348 171 387 238\"/>\n",
       "<path stroke-width=\"1\" stroke=\"black\" d=\"M 348 171 386 118\"/>\n",
       "<path stroke-width=\"1\" stroke=\"black\" d=\"M 348 171 239 145\"/>\n",
       "<path stroke-width=\"1\" stroke=\"black\" d=\"M 20 320 49 245\"/>\n",
       "<path stroke-width=\"1\" stroke=\"black\" d=\"M 357 253 330 158\"/>\n",
       "<path stroke-width=\"1\" stroke=\"black\" d=\"M 357 253 348 171\"/>\n",
       "<path stroke-width=\"1\" stroke=\"black\" d=\"M 179 131 120 80\"/>\n",
       "<path stroke-width=\"1\" stroke=\"black\" d=\"M 179 131 218 188\"/>\n",
       "<path stroke-width=\"1\" stroke=\"black\" d=\"M 179 131 94 131\"/>\n",
       "<path stroke-width=\"1\" stroke=\"black\" d=\"M 179 131 272 148\"/>\n",
       "<path stroke-width=\"1\" stroke=\"black\" d=\"M 239 145 149 167\"/>\n",
       "<path stroke-width=\"1\" stroke=\"black\" d=\"M 239 145 179 131\"/>\n",
       "<path stroke-width=\"1\" stroke=\"black\" d=\"M 239 145 164 90\"/>\n",
       "<path stroke-width=\"1\" stroke=\"black\" d=\"M 239 145 153 121\"/>\n",
       "<path stroke-width=\"1\" stroke=\"black\" d=\"M 239 145 256 189\"/>\n",
       "<path stroke-width=\"1\" stroke=\"black\" d=\"M 239 145 294 231\"/>\n",
       "<path stroke-width=\"1\" stroke=\"black\" d=\"M 239 145 219 116\"/>\n",
       "<path stroke-width=\"1\" stroke=\"black\" d=\"M 239 145 326 82\"/>\n",
       "<path stroke-width=\"1\" stroke=\"black\" d=\"M 239 145 295 180\"/>\n",
       "<path stroke-width=\"1\" stroke=\"black\" d=\"M 239 145 348 171\"/>\n",
       "<path stroke-width=\"1\" stroke=\"black\" d=\"M 164 90 149 167\"/>\n",
       "<path stroke-width=\"1\" stroke=\"black\" d=\"M 179 131 219 116\"/>\n",
       "<path stroke-width=\"1\" stroke=\"black\" d=\"M 179 131 153 121\"/>\n",
       "<path stroke-width=\"1\" stroke=\"black\" d=\"M 179 131 164 90\"/>\n",
       "<path stroke-width=\"1\" stroke=\"black\" d=\"M 179 131 239 145\"/>\n",
       "<path stroke-width=\"1\" stroke=\"black\" d=\"M 149 167 239 145\"/>\n",
       "<path stroke-width=\"1\" stroke=\"black\" d=\"M 149 167 164 90\"/>\n",
       "<path stroke-width=\"1\" stroke=\"black\" d=\"M 149 167 67 211\"/>\n",
       "<path stroke-width=\"1\" stroke=\"black\" d=\"M 149 167 49 245\"/>\n",
       "<path stroke-width=\"1\" stroke=\"black\" d=\"M 149 167 73 265\"/>\n",
       "<path stroke-width=\"1\" stroke=\"black\" d=\"M 149 167 153 121\"/>\n",
       "<path stroke-width=\"1\" stroke=\"black\" d=\"M 149 167 256 189\"/>\n",
       "<path stroke-width=\"1\" stroke=\"black\" d=\"M 164 90 179 131\"/>\n",
       "<path stroke-width=\"1\" stroke=\"black\" d=\"M 149 167 44 185\"/>\n",
       "<path stroke-width=\"1\" stroke=\"black\" d=\"M 149 167 90 75\"/>\n",
       "<path stroke-width=\"1\" stroke=\"black\" d=\"M 149 167 219 116\"/>\n",
       "<path stroke-width=\"1\" stroke=\"black\" d=\"M 149 167 120 80\"/>\n",
       "<path stroke-width=\"1\" stroke=\"black\" d=\"M 149 167 218 188\"/>\n",
       "<path stroke-width=\"1\" stroke=\"black\" d=\"M 149 167 94 131\"/>\n",
       "<path stroke-width=\"1\" stroke=\"black\" d=\"M 149 167 298 107\"/>\n",
       "<path stroke-width=\"1\" stroke=\"black\" d=\"M 179 131 149 167\"/>\n",
       "<path stroke-width=\"1\" stroke=\"black\" d=\"M 149 167 134 277\"/>\n",
       "<path stroke-width=\"1\" stroke=\"black\" d=\"M 164 90 239 145\"/>\n",
       "<path stroke-width=\"1\" stroke=\"black\" d=\"M 164 90 153 121\"/>\n",
       "<path stroke-width=\"1\" stroke=\"black\" d=\"M 164 90 90 75\"/>\n",
       "<path stroke-width=\"1\" stroke=\"black\" d=\"M 256 189 330 158\"/>\n",
       "<path stroke-width=\"1\" stroke=\"black\" d=\"M 294 231 239 145\"/>\n",
       "<path stroke-width=\"1\" stroke=\"black\" d=\"M 294 231 330 158\"/>\n",
       "<path stroke-width=\"1\" stroke=\"black\" d=\"M 44 185 149 167\"/>\n",
       "<path stroke-width=\"1\" stroke=\"black\" d=\"M 44 185 67 211\"/>\n",
       "<path stroke-width=\"1\" stroke=\"black\" d=\"M 44 185 49 245\"/>\n",
       "<path stroke-width=\"1\" stroke=\"black\" d=\"M 134 277 149 167\"/>\n",
       "<path stroke-width=\"1\" stroke=\"black\" d=\"M 256 189 348 171\"/>\n",
       "<path stroke-width=\"1\" stroke=\"black\" d=\"M 90 75 149 167\"/>\n",
       "<path stroke-width=\"1\" stroke=\"black\" d=\"M 219 116 149 167\"/>\n",
       "<path stroke-width=\"1\" stroke=\"black\" d=\"M 219 116 179 131\"/>\n",
       "<path stroke-width=\"1\" stroke=\"black\" d=\"M 219 116 239 145\"/>\n",
       "<path stroke-width=\"1\" stroke=\"black\" d=\"M 219 116 164 90\"/>\n",
       "<path stroke-width=\"1\" stroke=\"black\" d=\"M 219 116 330 158\"/>\n",
       "<path stroke-width=\"1\" stroke=\"black\" d=\"M 408 212 348 171\"/>\n",
       "<path stroke-width=\"1\" stroke=\"black\" d=\"M 408 212 330 158\"/>\n",
       "<path stroke-width=\"1\" stroke=\"black\" d=\"M 90 75 164 90\"/>\n",
       "<path stroke-width=\"1\" stroke=\"black\" d=\"M 330 158 298 107\"/>\n",
       "<path stroke-width=\"1\" stroke=\"black\" d=\"M 256 189 272 148\"/>\n",
       "<path stroke-width=\"1\" stroke=\"black\" d=\"M 256 189 149 167\"/>\n",
       "<path stroke-width=\"1\" stroke=\"black\" d=\"M 164 90 219 116\"/>\n",
       "<path stroke-width=\"1\" stroke=\"black\" d=\"M 67 211 149 167\"/>\n",
       "<path stroke-width=\"1\" stroke=\"black\" d=\"M 67 211 73 265\"/>\n",
       "<path stroke-width=\"1\" stroke=\"black\" d=\"M 67 211 44 185\"/>\n",
       "<path stroke-width=\"1\" stroke=\"black\" d=\"M 49 245 149 167\"/>\n",
       "<path stroke-width=\"1\" stroke=\"black\" d=\"M 49 245 73 265\"/>\n",
       "<path stroke-width=\"1\" stroke=\"black\" d=\"M 49 245 44 185\"/>\n",
       "<path stroke-width=\"1\" stroke=\"black\" d=\"M 256 189 239 145\"/>\n",
       "<path stroke-width=\"1\" stroke=\"black\" d=\"M 49 245 20 320\"/>\n",
       "<path stroke-width=\"1\" stroke=\"black\" d=\"M 73 265 67 211\"/>\n",
       "<path stroke-width=\"1\" stroke=\"black\" d=\"M 73 265 49 245\"/>\n",
       "<path stroke-width=\"1\" stroke=\"black\" d=\"M 73 265 20 320\"/>\n",
       "<path stroke-width=\"1\" stroke=\"black\" d=\"M 153 121 149 167\"/>\n",
       "<path stroke-width=\"1\" stroke=\"black\" d=\"M 153 121 179 131\"/>\n",
       "<path stroke-width=\"1\" stroke=\"black\" d=\"M 153 121 239 145\"/>\n",
       "<path stroke-width=\"1\" stroke=\"black\" d=\"M 153 121 164 90\"/>\n",
       "<path stroke-width=\"1\" stroke=\"black\" d=\"M 73 265 149 167\"/>\n",
       "<path stroke-width=\"1\" stroke=\"black\" d=\"M 330 158 348 171\"/>\n",
       "<circle cx=\"149\" cy=\"167\" r=\"7.0\" style=\"fill:rgb(179, 3, 38);stroke:black;stroke-width:1.0\"/>\n",
       "<circle cx=\"179\" cy=\"131\" r=\"7.0\" style=\"fill:rgb(96, 128, 232);stroke:black;stroke-width:1.0\"/>\n",
       "<circle cx=\"239\" cy=\"145\" r=\"7.0\" style=\"fill:rgb(166, 195, 253);stroke:black;stroke-width:1.0\"/>\n",
       "<circle cx=\"164\" cy=\"90\" r=\"7.0\" style=\"fill:rgb(64, 84, 199);stroke:black;stroke-width:1.0\"/>\n",
       "<circle cx=\"67\" cy=\"211\" r=\"7.0\" style=\"fill:rgb(58, 76, 192);stroke:black;stroke-width:1.0\"/>\n",
       "<circle cx=\"49\" cy=\"245\" r=\"7.0\" style=\"fill:rgb(76, 102, 214);stroke:black;stroke-width:1.0\"/>\n",
       "<circle cx=\"73\" cy=\"265\" r=\"7.0\" style=\"fill:rgb(76, 102, 214);stroke:black;stroke-width:1.0\"/>\n",
       "<circle cx=\"153\" cy=\"121\" r=\"7.0\" style=\"fill:rgb(58, 76, 192);stroke:black;stroke-width:1.0\"/>\n",
       "<circle cx=\"256\" cy=\"189\" r=\"7.0\" style=\"fill:rgb(96, 128, 232);stroke:black;stroke-width:1.0\"/>\n",
       "<circle cx=\"294\" cy=\"231\" r=\"7.0\" style=\"fill:rgb(58, 76, 192);stroke:black;stroke-width:1.0\"/>\n",
       "<circle cx=\"44\" cy=\"185\" r=\"7.0\" style=\"fill:rgb(58, 76, 192);stroke:black;stroke-width:1.0\"/>\n",
       "<circle cx=\"134\" cy=\"277\" r=\"7.0\" style=\"fill:rgb(58, 76, 192);stroke:black;stroke-width:1.0\"/>\n",
       "<circle cx=\"90\" cy=\"75\" r=\"7.0\" style=\"fill:rgb(58, 76, 192);stroke:black;stroke-width:1.0\"/>\n",
       "<circle cx=\"219\" cy=\"116\" r=\"7.0\" style=\"fill:rgb(88, 118, 226);stroke:black;stroke-width:1.0\"/>\n",
       "<circle cx=\"408\" cy=\"212\" r=\"7.0\" style=\"fill:rgb(58, 76, 192);stroke:black;stroke-width:1.0\"/>\n",
       "<circle cx=\"357\" cy=\"253\" r=\"7.0\" style=\"fill:rgb(58, 76, 192);stroke:black;stroke-width:1.0\"/>\n",
       "<circle cx=\"20\" cy=\"320\" r=\"7.0\" style=\"fill:rgb(58, 76, 192);stroke:black;stroke-width:1.0\"/>\n",
       "<circle cx=\"120\" cy=\"80\" r=\"7.0\" style=\"fill:rgb(58, 76, 192);stroke:black;stroke-width:1.0\"/>\n",
       "<circle cx=\"420\" cy=\"177\" r=\"7.0\" style=\"fill:rgb(58, 76, 192);stroke:black;stroke-width:1.0\"/>\n",
       "<circle cx=\"218\" cy=\"188\" r=\"7.0\" style=\"fill:rgb(80, 107, 218);stroke:black;stroke-width:1.0\"/>\n",
       "<circle cx=\"414\" cy=\"122\" r=\"7.0\" style=\"fill:rgb(58, 76, 192);stroke:black;stroke-width:1.0\"/>\n",
       "<circle cx=\"94\" cy=\"131\" r=\"7.0\" style=\"fill:rgb(58, 76, 192);stroke:black;stroke-width:1.0\"/>\n",
       "<circle cx=\"387\" cy=\"238\" r=\"7.0\" style=\"fill:rgb(58, 76, 192);stroke:black;stroke-width:1.0\"/>\n",
       "<circle cx=\"386\" cy=\"118\" r=\"7.0\" style=\"fill:rgb(66, 88, 202);stroke:black;stroke-width:1.0\"/>\n",
       "<circle cx=\"366\" cy=\"20\" r=\"7.0\" style=\"fill:rgb(58, 76, 192);stroke:black;stroke-width:1.0\"/>\n",
       "<circle cx=\"399\" cy=\"52\" r=\"7.0\" style=\"fill:rgb(58, 76, 192);stroke:black;stroke-width:1.0\"/>\n",
       "<circle cx=\"348\" cy=\"44\" r=\"7.0\" style=\"fill:rgb(58, 76, 192);stroke:black;stroke-width:1.0\"/>\n",
       "<circle cx=\"326\" cy=\"82\" r=\"7.0\" style=\"fill:rgb(72, 96, 209);stroke:black;stroke-width:1.0\"/>\n",
       "<circle cx=\"295\" cy=\"180\" r=\"7.0\" style=\"fill:rgb(58, 76, 192);stroke:black;stroke-width:1.0\"/>\n",
       "<circle cx=\"371\" cy=\"96\" r=\"7.0\" style=\"fill:rgb(58, 76, 192);stroke:black;stroke-width:1.0\"/>\n",
       "<circle cx=\"272\" cy=\"148\" r=\"7.0\" style=\"fill:rgb(66, 88, 202);stroke:black;stroke-width:1.0\"/>\n",
       "<circle cx=\"298\" cy=\"107\" r=\"7.0\" style=\"fill:rgb(163, 193, 254);stroke:black;stroke-width:1.0\"/>\n",
       "<circle cx=\"348\" cy=\"171\" r=\"7.0\" style=\"fill:rgb(166, 195, 253);stroke:black;stroke-width:1.0\"/>\n",
       "<circle cx=\"330\" cy=\"158\" r=\"7.0\" style=\"fill:rgb(247, 177, 148);stroke:black;stroke-width:1.0\"/>\n",
       "</svg>"
      ],
      "text/plain": [
       "<IPython.core.display.SVG object>"
      ]
     },
     "execution_count": 213,
     "metadata": {},
     "output_type": "execute_result"
    }
   ],
   "source": [
    "SVG(svg_graph(k_graph.adjacency, scores=scores))"
   ]
  },
  {
   "cell_type": "code",
   "execution_count": 214,
   "metadata": {},
   "outputs": [
    {
     "data": {
      "text/plain": [
       "array([312.375 , 231.0625, 279.625 , 187.    ,  74.625 ,  79.75  ,\n",
       "        79.75  , 154.25  , 210.375 ,  95.0625,  74.625 ,  50.75  ,\n",
       "        77.75  , 208.    ,  96.625 ,  96.625 ,  24.875 ,  85.9375,\n",
       "        96.625 , 139.6875,  96.625 ,  85.9375,  96.625 , 141.375 ,\n",
       "        51.75  ,  53.9375,  71.4375, 124.3125, 119.75  , 126.5   ,\n",
       "       159.9375, 183.3125, 269.6875, 320.0625])"
      ]
     },
     "execution_count": 214,
     "metadata": {},
     "output_type": "execute_result"
    }
   ],
   "source": [
    "katz = Katz()\n",
    "katz_scores = katz.fit_transform(k_graph.adjacency)\n",
    "katz_scores"
   ]
  },
  {
   "cell_type": "code",
   "execution_count": 215,
   "metadata": {},
   "outputs": [
    {
     "data": {
      "image/svg+xml": [
       "<svg xmlns=\"http://www.w3.org/2000/svg\" width=\"440\" height=\"340\">\n",
       "<path stroke-width=\"1\" stroke=\"black\" d=\"M 193 110 209 126\"/>\n",
       "<path stroke-width=\"1\" stroke=\"black\" d=\"M 266 240 281 200\"/>\n",
       "<path stroke-width=\"1\" stroke=\"black\" d=\"M 236 267 316 280\"/>\n",
       "<path stroke-width=\"1\" stroke=\"black\" d=\"M 236 267 266 240\"/>\n",
       "<path stroke-width=\"1\" stroke=\"black\" d=\"M 236 267 281 200\"/>\n",
       "<path stroke-width=\"1\" stroke=\"black\" d=\"M 417 316 372 299\"/>\n",
       "<path stroke-width=\"1\" stroke=\"black\" d=\"M 417 316 331 239\"/>\n",
       "<path stroke-width=\"1\" stroke=\"black\" d=\"M 339 214 300 150\"/>\n",
       "<path stroke-width=\"1\" stroke=\"black\" d=\"M 339 214 316 280\"/>\n",
       "<path stroke-width=\"1\" stroke=\"black\" d=\"M 339 214 266 240\"/>\n",
       "<path stroke-width=\"1\" stroke=\"black\" d=\"M 339 214 331 239\"/>\n",
       "<path stroke-width=\"1\" stroke=\"black\" d=\"M 360 174 300 150\"/>\n",
       "<path stroke-width=\"1\" stroke=\"black\" d=\"M 360 174 281 200\"/>\n",
       "<path stroke-width=\"1\" stroke=\"black\" d=\"M 360 174 331 239\"/>\n",
       "<path stroke-width=\"1\" stroke=\"black\" d=\"M 372 299 316 280\"/>\n",
       "<path stroke-width=\"1\" stroke=\"black\" d=\"M 372 299 417 316\"/>\n",
       "<path stroke-width=\"1\" stroke=\"black\" d=\"M 266 240 339 214\"/>\n",
       "<path stroke-width=\"1\" stroke=\"black\" d=\"M 266 240 236 267\"/>\n",
       "<path stroke-width=\"1\" stroke=\"black\" d=\"M 316 280 331 239\"/>\n",
       "<path stroke-width=\"1\" stroke=\"black\" d=\"M 316 280 321 253\"/>\n",
       "<path stroke-width=\"1\" stroke=\"black\" d=\"M 118 104 193 110\"/>\n",
       "<path stroke-width=\"1\" stroke=\"black\" d=\"M 118 104 209 126\"/>\n",
       "<path stroke-width=\"1\" stroke=\"black\" d=\"M 305 319 321 253\"/>\n",
       "<path stroke-width=\"1\" stroke=\"black\" d=\"M 305 319 331 239\"/>\n",
       "<path stroke-width=\"1\" stroke=\"black\" d=\"M 222 175 193 110\"/>\n",
       "<path stroke-width=\"1\" stroke=\"black\" d=\"M 222 175 209 126\"/>\n",
       "<path stroke-width=\"1\" stroke=\"black\" d=\"M 222 175 331 239\"/>\n",
       "<path stroke-width=\"1\" stroke=\"black\" d=\"M 372 299 321 253\"/>\n",
       "<path stroke-width=\"1\" stroke=\"black\" d=\"M 408 277 321 253\"/>\n",
       "<path stroke-width=\"1\" stroke=\"black\" d=\"M 112 76 193 110\"/>\n",
       "<path stroke-width=\"1\" stroke=\"black\" d=\"M 112 76 209 126\"/>\n",
       "<path stroke-width=\"1\" stroke=\"black\" d=\"M 344 320 321 253\"/>\n",
       "<path stroke-width=\"1\" stroke=\"black\" d=\"M 344 320 331 239\"/>\n",
       "<path stroke-width=\"1\" stroke=\"black\" d=\"M 316 280 236 267\"/>\n",
       "<path stroke-width=\"1\" stroke=\"black\" d=\"M 316 280 339 214\"/>\n",
       "<path stroke-width=\"1\" stroke=\"black\" d=\"M 316 280 372 299\"/>\n",
       "<path stroke-width=\"1\" stroke=\"black\" d=\"M 408 277 331 239\"/>\n",
       "<path stroke-width=\"1\" stroke=\"black\" d=\"M 20 167 95 135\"/>\n",
       "<path stroke-width=\"1\" stroke=\"black\" d=\"M 372 299 331 239\"/>\n",
       "<path stroke-width=\"1\" stroke=\"black\" d=\"M 242 211 268 183\"/>\n",
       "<path stroke-width=\"1\" stroke=\"black\" d=\"M 331 239 268 183\"/>\n",
       "<path stroke-width=\"1\" stroke=\"black\" d=\"M 331 239 401 175\"/>\n",
       "<path stroke-width=\"1\" stroke=\"black\" d=\"M 331 239 272 140\"/>\n",
       "<path stroke-width=\"1\" stroke=\"black\" d=\"M 331 239 420 249\"/>\n",
       "<path stroke-width=\"1\" stroke=\"black\" d=\"M 331 239 269 305\"/>\n",
       "<path stroke-width=\"1\" stroke=\"black\" d=\"M 331 239 305 319\"/>\n",
       "<path stroke-width=\"1\" stroke=\"black\" d=\"M 331 239 222 175\"/>\n",
       "<path stroke-width=\"1\" stroke=\"black\" d=\"M 331 239 408 277\"/>\n",
       "<path stroke-width=\"1\" stroke=\"black\" d=\"M 331 239 344 320\"/>\n",
       "<path stroke-width=\"1\" stroke=\"black\" d=\"M 331 239 316 280\"/>\n",
       "<path stroke-width=\"1\" stroke=\"black\" d=\"M 331 239 417 316\"/>\n",
       "<path stroke-width=\"1\" stroke=\"black\" d=\"M 331 239 339 214\"/>\n",
       "<path stroke-width=\"1\" stroke=\"black\" d=\"M 331 239 360 174\"/>\n",
       "<path stroke-width=\"1\" stroke=\"black\" d=\"M 331 239 372 299\"/>\n",
       "<path stroke-width=\"1\" stroke=\"black\" d=\"M 331 239 242 211\"/>\n",
       "<path stroke-width=\"1\" stroke=\"black\" d=\"M 321 253 331 239\"/>\n",
       "<path stroke-width=\"1\" stroke=\"black\" d=\"M 321 253 281 200\"/>\n",
       "<path stroke-width=\"1\" stroke=\"black\" d=\"M 321 253 242 211\"/>\n",
       "<path stroke-width=\"1\" stroke=\"black\" d=\"M 321 253 372 299\"/>\n",
       "<path stroke-width=\"1\" stroke=\"black\" d=\"M 242 211 321 253\"/>\n",
       "<path stroke-width=\"1\" stroke=\"black\" d=\"M 242 211 331 239\"/>\n",
       "<path stroke-width=\"1\" stroke=\"black\" d=\"M 281 200 193 110\"/>\n",
       "<path stroke-width=\"1\" stroke=\"black\" d=\"M 281 200 266 240\"/>\n",
       "<path stroke-width=\"1\" stroke=\"black\" d=\"M 281 200 236 267\"/>\n",
       "<path stroke-width=\"1\" stroke=\"black\" d=\"M 281 200 360 174\"/>\n",
       "<path stroke-width=\"1\" stroke=\"black\" d=\"M 281 200 321 253\"/>\n",
       "<path stroke-width=\"1\" stroke=\"black\" d=\"M 242 211 209 126\"/>\n",
       "<path stroke-width=\"1\" stroke=\"black\" d=\"M 281 200 331 239\"/>\n",
       "<path stroke-width=\"1\" stroke=\"black\" d=\"M 321 253 268 183\"/>\n",
       "<path stroke-width=\"1\" stroke=\"black\" d=\"M 321 253 420 249\"/>\n",
       "<path stroke-width=\"1\" stroke=\"black\" d=\"M 321 253 269 305\"/>\n",
       "<path stroke-width=\"1\" stroke=\"black\" d=\"M 321 253 305 319\"/>\n",
       "<path stroke-width=\"1\" stroke=\"black\" d=\"M 321 253 408 277\"/>\n",
       "<path stroke-width=\"1\" stroke=\"black\" d=\"M 321 253 344 320\"/>\n",
       "<path stroke-width=\"1\" stroke=\"black\" d=\"M 321 253 316 280\"/>\n",
       "<path stroke-width=\"1\" stroke=\"black\" d=\"M 321 253 300 150\"/>\n",
       "<path stroke-width=\"1\" stroke=\"black\" d=\"M 20 167 70 119\"/>\n",
       "<path stroke-width=\"1\" stroke=\"black\" d=\"M 269 305 331 239\"/>\n",
       "<path stroke-width=\"1\" stroke=\"black\" d=\"M 269 305 321 253\"/>\n",
       "<path stroke-width=\"1\" stroke=\"black\" d=\"M 209 126 118 104\"/>\n",
       "<path stroke-width=\"1\" stroke=\"black\" d=\"M 209 126 222 175\"/>\n",
       "<path stroke-width=\"1\" stroke=\"black\" d=\"M 209 126 112 76\"/>\n",
       "<path stroke-width=\"1\" stroke=\"black\" d=\"M 209 126 242 211\"/>\n",
       "<path stroke-width=\"1\" stroke=\"black\" d=\"M 300 150 193 110\"/>\n",
       "<path stroke-width=\"1\" stroke=\"black\" d=\"M 300 150 209 126\"/>\n",
       "<path stroke-width=\"1\" stroke=\"black\" d=\"M 300 150 269 86\"/>\n",
       "<path stroke-width=\"1\" stroke=\"black\" d=\"M 300 150 247 82\"/>\n",
       "<path stroke-width=\"1\" stroke=\"black\" d=\"M 300 150 268 183\"/>\n",
       "<path stroke-width=\"1\" stroke=\"black\" d=\"M 300 150 401 175\"/>\n",
       "<path stroke-width=\"1\" stroke=\"black\" d=\"M 300 150 272 140\"/>\n",
       "<path stroke-width=\"1\" stroke=\"black\" d=\"M 300 150 339 214\"/>\n",
       "<path stroke-width=\"1\" stroke=\"black\" d=\"M 300 150 360 174\"/>\n",
       "<path stroke-width=\"1\" stroke=\"black\" d=\"M 300 150 321 253\"/>\n",
       "<path stroke-width=\"1\" stroke=\"black\" d=\"M 269 86 193 110\"/>\n",
       "<path stroke-width=\"1\" stroke=\"black\" d=\"M 209 126 272 140\"/>\n",
       "<path stroke-width=\"1\" stroke=\"black\" d=\"M 209 126 247 82\"/>\n",
       "<path stroke-width=\"1\" stroke=\"black\" d=\"M 209 126 269 86\"/>\n",
       "<path stroke-width=\"1\" stroke=\"black\" d=\"M 209 126 300 150\"/>\n",
       "<path stroke-width=\"1\" stroke=\"black\" d=\"M 193 110 300 150\"/>\n",
       "<path stroke-width=\"1\" stroke=\"black\" d=\"M 193 110 269 86\"/>\n",
       "<path stroke-width=\"1\" stroke=\"black\" d=\"M 193 110 149 78\"/>\n",
       "<path stroke-width=\"1\" stroke=\"black\" d=\"M 193 110 70 119\"/>\n",
       "<path stroke-width=\"1\" stroke=\"black\" d=\"M 193 110 95 135\"/>\n",
       "<path stroke-width=\"1\" stroke=\"black\" d=\"M 193 110 247 82\"/>\n",
       "<path stroke-width=\"1\" stroke=\"black\" d=\"M 193 110 268 183\"/>\n",
       "<path stroke-width=\"1\" stroke=\"black\" d=\"M 269 86 209 126\"/>\n",
       "<path stroke-width=\"1\" stroke=\"black\" d=\"M 193 110 123 65\"/>\n",
       "<path stroke-width=\"1\" stroke=\"black\" d=\"M 193 110 235 30\"/>\n",
       "<path stroke-width=\"1\" stroke=\"black\" d=\"M 193 110 272 140\"/>\n",
       "<path stroke-width=\"1\" stroke=\"black\" d=\"M 193 110 118 104\"/>\n",
       "<path stroke-width=\"1\" stroke=\"black\" d=\"M 193 110 222 175\"/>\n",
       "<path stroke-width=\"1\" stroke=\"black\" d=\"M 193 110 112 76\"/>\n",
       "<path stroke-width=\"1\" stroke=\"black\" d=\"M 193 110 281 200\"/>\n",
       "<path stroke-width=\"1\" stroke=\"black\" d=\"M 209 126 193 110\"/>\n",
       "<path stroke-width=\"1\" stroke=\"black\" d=\"M 193 110 132 20\"/>\n",
       "<path stroke-width=\"1\" stroke=\"black\" d=\"M 269 86 300 150\"/>\n",
       "<path stroke-width=\"1\" stroke=\"black\" d=\"M 269 86 247 82\"/>\n",
       "<path stroke-width=\"1\" stroke=\"black\" d=\"M 269 86 235 30\"/>\n",
       "<path stroke-width=\"1\" stroke=\"black\" d=\"M 268 183 331 239\"/>\n",
       "<path stroke-width=\"1\" stroke=\"black\" d=\"M 401 175 300 150\"/>\n",
       "<path stroke-width=\"1\" stroke=\"black\" d=\"M 401 175 331 239\"/>\n",
       "<path stroke-width=\"1\" stroke=\"black\" d=\"M 123 65 193 110\"/>\n",
       "<path stroke-width=\"1\" stroke=\"black\" d=\"M 123 65 149 78\"/>\n",
       "<path stroke-width=\"1\" stroke=\"black\" d=\"M 123 65 70 119\"/>\n",
       "<path stroke-width=\"1\" stroke=\"black\" d=\"M 132 20 193 110\"/>\n",
       "<path stroke-width=\"1\" stroke=\"black\" d=\"M 268 183 321 253\"/>\n",
       "<path stroke-width=\"1\" stroke=\"black\" d=\"M 235 30 193 110\"/>\n",
       "<path stroke-width=\"1\" stroke=\"black\" d=\"M 272 140 193 110\"/>\n",
       "<path stroke-width=\"1\" stroke=\"black\" d=\"M 272 140 209 126\"/>\n",
       "<path stroke-width=\"1\" stroke=\"black\" d=\"M 272 140 300 150\"/>\n",
       "<path stroke-width=\"1\" stroke=\"black\" d=\"M 272 140 269 86\"/>\n",
       "<path stroke-width=\"1\" stroke=\"black\" d=\"M 272 140 331 239\"/>\n",
       "<path stroke-width=\"1\" stroke=\"black\" d=\"M 420 249 321 253\"/>\n",
       "<path stroke-width=\"1\" stroke=\"black\" d=\"M 420 249 331 239\"/>\n",
       "<path stroke-width=\"1\" stroke=\"black\" d=\"M 235 30 269 86\"/>\n",
       "<path stroke-width=\"1\" stroke=\"black\" d=\"M 331 239 281 200\"/>\n",
       "<path stroke-width=\"1\" stroke=\"black\" d=\"M 268 183 242 211\"/>\n",
       "<path stroke-width=\"1\" stroke=\"black\" d=\"M 268 183 193 110\"/>\n",
       "<path stroke-width=\"1\" stroke=\"black\" d=\"M 269 86 272 140\"/>\n",
       "<path stroke-width=\"1\" stroke=\"black\" d=\"M 149 78 193 110\"/>\n",
       "<path stroke-width=\"1\" stroke=\"black\" d=\"M 149 78 95 135\"/>\n",
       "<path stroke-width=\"1\" stroke=\"black\" d=\"M 149 78 123 65\"/>\n",
       "<path stroke-width=\"1\" stroke=\"black\" d=\"M 70 119 193 110\"/>\n",
       "<path stroke-width=\"1\" stroke=\"black\" d=\"M 70 119 95 135\"/>\n",
       "<path stroke-width=\"1\" stroke=\"black\" d=\"M 70 119 123 65\"/>\n",
       "<path stroke-width=\"1\" stroke=\"black\" d=\"M 268 183 300 150\"/>\n",
       "<path stroke-width=\"1\" stroke=\"black\" d=\"M 70 119 20 167\"/>\n",
       "<path stroke-width=\"1\" stroke=\"black\" d=\"M 95 135 149 78\"/>\n",
       "<path stroke-width=\"1\" stroke=\"black\" d=\"M 95 135 70 119\"/>\n",
       "<path stroke-width=\"1\" stroke=\"black\" d=\"M 95 135 20 167\"/>\n",
       "<path stroke-width=\"1\" stroke=\"black\" d=\"M 247 82 193 110\"/>\n",
       "<path stroke-width=\"1\" stroke=\"black\" d=\"M 247 82 209 126\"/>\n",
       "<path stroke-width=\"1\" stroke=\"black\" d=\"M 247 82 300 150\"/>\n",
       "<path stroke-width=\"1\" stroke=\"black\" d=\"M 247 82 269 86\"/>\n",
       "<path stroke-width=\"1\" stroke=\"black\" d=\"M 95 135 193 110\"/>\n",
       "<path stroke-width=\"1\" stroke=\"black\" d=\"M 331 239 321 253\"/>\n",
       "<circle cx=\"193\" cy=\"110\" r=\"7.0\" style=\"fill:rgb(179, 3, 38);stroke:black;stroke-width:1.0\"/>\n",
       "<circle cx=\"209\" cy=\"126\" r=\"7.0\" style=\"fill:rgb(96, 128, 232);stroke:black;stroke-width:1.0\"/>\n",
       "<circle cx=\"300\" cy=\"150\" r=\"7.0\" style=\"fill:rgb(166, 195, 253);stroke:black;stroke-width:1.0\"/>\n",
       "<circle cx=\"269\" cy=\"86\" r=\"7.0\" style=\"fill:rgb(64, 84, 199);stroke:black;stroke-width:1.0\"/>\n",
       "<circle cx=\"149\" cy=\"78\" r=\"7.0\" style=\"fill:rgb(58, 76, 192);stroke:black;stroke-width:1.0\"/>\n",
       "<circle cx=\"70\" cy=\"119\" r=\"7.0\" style=\"fill:rgb(76, 102, 214);stroke:black;stroke-width:1.0\"/>\n",
       "<circle cx=\"95\" cy=\"135\" r=\"7.0\" style=\"fill:rgb(76, 102, 214);stroke:black;stroke-width:1.0\"/>\n",
       "<circle cx=\"247\" cy=\"82\" r=\"7.0\" style=\"fill:rgb(58, 76, 192);stroke:black;stroke-width:1.0\"/>\n",
       "<circle cx=\"268\" cy=\"183\" r=\"7.0\" style=\"fill:rgb(96, 128, 232);stroke:black;stroke-width:1.0\"/>\n",
       "<circle cx=\"401\" cy=\"175\" r=\"7.0\" style=\"fill:rgb(58, 76, 192);stroke:black;stroke-width:1.0\"/>\n",
       "<circle cx=\"123\" cy=\"65\" r=\"7.0\" style=\"fill:rgb(58, 76, 192);stroke:black;stroke-width:1.0\"/>\n",
       "<circle cx=\"132\" cy=\"20\" r=\"7.0\" style=\"fill:rgb(58, 76, 192);stroke:black;stroke-width:1.0\"/>\n",
       "<circle cx=\"235\" cy=\"30\" r=\"7.0\" style=\"fill:rgb(58, 76, 192);stroke:black;stroke-width:1.0\"/>\n",
       "<circle cx=\"272\" cy=\"140\" r=\"7.0\" style=\"fill:rgb(88, 118, 226);stroke:black;stroke-width:1.0\"/>\n",
       "<circle cx=\"420\" cy=\"249\" r=\"7.0\" style=\"fill:rgb(58, 76, 192);stroke:black;stroke-width:1.0\"/>\n",
       "<circle cx=\"269\" cy=\"305\" r=\"7.0\" style=\"fill:rgb(58, 76, 192);stroke:black;stroke-width:1.0\"/>\n",
       "<circle cx=\"20\" cy=\"167\" r=\"7.0\" style=\"fill:rgb(58, 76, 192);stroke:black;stroke-width:1.0\"/>\n",
       "<circle cx=\"118\" cy=\"104\" r=\"7.0\" style=\"fill:rgb(58, 76, 192);stroke:black;stroke-width:1.0\"/>\n",
       "<circle cx=\"305\" cy=\"319\" r=\"7.0\" style=\"fill:rgb(58, 76, 192);stroke:black;stroke-width:1.0\"/>\n",
       "<circle cx=\"222\" cy=\"175\" r=\"7.0\" style=\"fill:rgb(80, 107, 218);stroke:black;stroke-width:1.0\"/>\n",
       "<circle cx=\"408\" cy=\"277\" r=\"7.0\" style=\"fill:rgb(58, 76, 192);stroke:black;stroke-width:1.0\"/>\n",
       "<circle cx=\"112\" cy=\"76\" r=\"7.0\" style=\"fill:rgb(58, 76, 192);stroke:black;stroke-width:1.0\"/>\n",
       "<circle cx=\"344\" cy=\"320\" r=\"7.0\" style=\"fill:rgb(58, 76, 192);stroke:black;stroke-width:1.0\"/>\n",
       "<circle cx=\"316\" cy=\"280\" r=\"7.0\" style=\"fill:rgb(66, 88, 202);stroke:black;stroke-width:1.0\"/>\n",
       "<circle cx=\"266\" cy=\"240\" r=\"7.0\" style=\"fill:rgb(58, 76, 192);stroke:black;stroke-width:1.0\"/>\n",
       "<circle cx=\"236\" cy=\"267\" r=\"7.0\" style=\"fill:rgb(58, 76, 192);stroke:black;stroke-width:1.0\"/>\n",
       "<circle cx=\"417\" cy=\"316\" r=\"7.0\" style=\"fill:rgb(58, 76, 192);stroke:black;stroke-width:1.0\"/>\n",
       "<circle cx=\"339\" cy=\"214\" r=\"7.0\" style=\"fill:rgb(72, 96, 209);stroke:black;stroke-width:1.0\"/>\n",
       "<circle cx=\"360\" cy=\"174\" r=\"7.0\" style=\"fill:rgb(58, 76, 192);stroke:black;stroke-width:1.0\"/>\n",
       "<circle cx=\"372\" cy=\"299\" r=\"7.0\" style=\"fill:rgb(58, 76, 192);stroke:black;stroke-width:1.0\"/>\n",
       "<circle cx=\"242\" cy=\"211\" r=\"7.0\" style=\"fill:rgb(66, 88, 202);stroke:black;stroke-width:1.0\"/>\n",
       "<circle cx=\"281\" cy=\"200\" r=\"7.0\" style=\"fill:rgb(163, 193, 254);stroke:black;stroke-width:1.0\"/>\n",
       "<circle cx=\"321\" cy=\"253\" r=\"7.0\" style=\"fill:rgb(166, 195, 253);stroke:black;stroke-width:1.0\"/>\n",
       "<circle cx=\"331\" cy=\"239\" r=\"7.0\" style=\"fill:rgb(247, 177, 148);stroke:black;stroke-width:1.0\"/>\n",
       "</svg>"
      ],
      "text/plain": [
       "<IPython.core.display.SVG object>"
      ]
     },
     "execution_count": 215,
     "metadata": {},
     "output_type": "execute_result"
    }
   ],
   "source": [
    "SVG(svg_graph(k_graph.adjacency, scores=scores))"
   ]
  }
 ],
 "metadata": {
  "anaconda-cloud": {},
  "hide_input": false,
  "kernelspec": {
   "display_name": "Python 3",
   "language": "python",
   "name": "python3"
  },
  "language_info": {
   "codemirror_mode": {
    "name": "ipython",
    "version": 3
   },
   "file_extension": ".py",
   "mimetype": "text/x-python",
   "name": "python",
   "nbconvert_exporter": "python",
   "pygments_lexer": "ipython3",
   "version": "3.8.3"
  }
 },
 "nbformat": 4,
 "nbformat_minor": 4
}
